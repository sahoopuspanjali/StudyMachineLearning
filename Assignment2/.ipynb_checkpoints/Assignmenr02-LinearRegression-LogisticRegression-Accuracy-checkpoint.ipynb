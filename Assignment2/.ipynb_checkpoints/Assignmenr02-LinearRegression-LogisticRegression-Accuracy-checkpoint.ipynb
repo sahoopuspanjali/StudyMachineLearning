{
 "cells": [
  {
   "cell_type": "markdown",
   "metadata": {},
   "source": [
    "# Assignment 2\n",
    "### General Instructions\n",
    "  + The Python standard library is not enough to do solve these questions. You will need to import appropriate libraries for each task. Generally, you might import and use any library you wish unless otherwise stated. \n",
    "  + Where detail instructions like variable or function names, required libraries, and etc are not given by the question, feel free to do it the way you would like to.\n",
    "  + After each question, add the needed number of new cells and place your answers inside the cells. \n",
    "  + When you are required to explain or answer in text format open a Markdown cell and enter your answer in it.\n",
    "  + Do not remove or modify the original cells provided by the instructor.\n",
    "  + Comment your code whenever needed using # sign at the beginning of the row.\n",
    "  + Do not hesitate to communicate your questions to the TAs or instructors. Good luck! "
   ]
  },
  {
   "cell_type": "code",
   "execution_count": 1,
   "metadata": {},
   "outputs": [],
   "source": [
    "# The following piece of code gives the opportunity to show multiple outputs\n",
    "# in one cell:\n",
    "from IPython.core.interactiveshell import InteractiveShell\n",
    "InteractiveShell.ast_node_interactivity = \"all\"\n",
    "\n",
    "\n",
    "# Colorful outputs\n",
    "class bcolors:\n",
    "    RED       = '\\033[91m'\n",
    "    OKBLUE    = '\\033[94m'\n",
    "    BOLD      = '\\033[1m'\n",
    "    UNDERLINE = '\\033[4m'\n",
    "    ENDC      = '\\033[0m'"
   ]
  },
  {
   "cell_type": "markdown",
   "metadata": {},
   "source": [
    "## Question 1 <span style=\"color:red\">(40 points)</span>\n",
    "\n",
    "1.  Download `Income2.csv` from http://www-bcf.usc.edu/~gareth/ISL/Income2.csv\n",
    "2.  Load the data into this Jupyter notebook. \n",
    "3.  Describe the data using descriptive statistics such as measures of central tendancy, dispersion or association.\n",
    "4.  Explore the data by vizualing it through various figures. Clearly explain or interpret each figure, justify the appropriateness of the tool used for visualization, highlight the information it provides, and, finally, explain how this information affect your further analysis.\n",
    "5.\tModel `Income` as a linear function of `Years of Education`. What are your independent and dependent variables? What type of model did you use? Why?\n",
    "6.  Scatterplot the dependent and independent variables used in the model versus each other. Based on the scatterplot, do you think a linear model is an adequate model for the data in hand? Discuss your answer. \n",
    "7.  Print the slope of the fitted line out and provide a $95\\%$ confidence interval for the estimate slope.\n",
    "8.  Add the fitted line over the scatterplot.\n",
    "9.  Using the **discrete uniform** distribution, randomly generate $10$ numbers between the $25$ and $75$ percentiles of the variable `Years of Education` in the original data. If these numbers represent years of education for $10$ employees, then predict each person's `Income` due to your model.\n",
    "10. Now, model  `Income` as a linear function of both `Years of Education` and `Seniority`. What type of model did you use? How many parameters (coefficients) does this model have? \n",
    "11. Print out the estimated coefficients after the model has been fitted.\n",
    "12. How much would be the `Income` of a new individual with $18$ years of education and $60$ years of seniority?\n",
    "13.\tArgue which of `Years of Education` or `Seniority` is a stronger predictor of `Income`? Justify your comparison. (**Hint**: take into consideration that these variables are in different units)\n"
   ]
  },
  {
   "cell_type": "code",
   "execution_count": 2,
   "metadata": {},
   "outputs": [],
   "source": [
    "import sklearn\n",
    "import statsmodels\n",
    "import pandas as pd\n",
    "import numpy as np\n",
    "import matplotlib.pyplot as plt\n",
    "import scipy.stats  as stats\n",
    "import statsmodels.formula.api as smf\n",
    "import math"
   ]
  },
  {
   "cell_type": "code",
   "execution_count": 3,
   "metadata": {
    "scrolled": true
   },
   "outputs": [
    {
     "data": {
      "text/html": [
       "<div>\n",
       "<style scoped>\n",
       "    .dataframe tbody tr th:only-of-type {\n",
       "        vertical-align: middle;\n",
       "    }\n",
       "\n",
       "    .dataframe tbody tr th {\n",
       "        vertical-align: top;\n",
       "    }\n",
       "\n",
       "    .dataframe thead th {\n",
       "        text-align: right;\n",
       "    }\n",
       "</style>\n",
       "<table border=\"1\" class=\"dataframe\">\n",
       "  <thead>\n",
       "    <tr style=\"text-align: right;\">\n",
       "      <th></th>\n",
       "      <th>Unnamed: 0</th>\n",
       "      <th>Education</th>\n",
       "      <th>Seniority</th>\n",
       "      <th>Income</th>\n",
       "    </tr>\n",
       "  </thead>\n",
       "  <tbody>\n",
       "    <tr>\n",
       "      <th>0</th>\n",
       "      <td>1</td>\n",
       "      <td>21.586207</td>\n",
       "      <td>113.103448</td>\n",
       "      <td>99.917173</td>\n",
       "    </tr>\n",
       "    <tr>\n",
       "      <th>1</th>\n",
       "      <td>2</td>\n",
       "      <td>18.275862</td>\n",
       "      <td>119.310345</td>\n",
       "      <td>92.579135</td>\n",
       "    </tr>\n",
       "    <tr>\n",
       "      <th>2</th>\n",
       "      <td>3</td>\n",
       "      <td>12.068966</td>\n",
       "      <td>100.689655</td>\n",
       "      <td>34.678727</td>\n",
       "    </tr>\n",
       "    <tr>\n",
       "      <th>3</th>\n",
       "      <td>4</td>\n",
       "      <td>17.034483</td>\n",
       "      <td>187.586207</td>\n",
       "      <td>78.702806</td>\n",
       "    </tr>\n",
       "    <tr>\n",
       "      <th>4</th>\n",
       "      <td>5</td>\n",
       "      <td>19.931034</td>\n",
       "      <td>20.000000</td>\n",
       "      <td>68.009922</td>\n",
       "    </tr>\n",
       "  </tbody>\n",
       "</table>\n",
       "</div>"
      ],
      "text/plain": [
       "   Unnamed: 0  Education   Seniority     Income\n",
       "0           1  21.586207  113.103448  99.917173\n",
       "1           2  18.275862  119.310345  92.579135\n",
       "2           3  12.068966  100.689655  34.678727\n",
       "3           4  17.034483  187.586207  78.702806\n",
       "4           5  19.931034   20.000000  68.009922"
      ]
     },
     "execution_count": 3,
     "metadata": {},
     "output_type": "execute_result"
    }
   ],
   "source": [
    "#1.Download Income2.csv from http://www-bcf.usc.edu/~gareth/ISL/Income2.csv\n",
    "#2.Load the data into this Jupyter notebook\n",
    "path='data/'\n",
    "filename = path+'Income2.csv'\n",
    "income_data = pd.read_csv(filename)\n",
    "income_data.head()"
   ]
  },
  {
   "cell_type": "code",
   "execution_count": 4,
   "metadata": {
    "scrolled": true
   },
   "outputs": [
    {
     "data": {
      "text/html": [
       "<div>\n",
       "<style scoped>\n",
       "    .dataframe tbody tr th:only-of-type {\n",
       "        vertical-align: middle;\n",
       "    }\n",
       "\n",
       "    .dataframe tbody tr th {\n",
       "        vertical-align: top;\n",
       "    }\n",
       "\n",
       "    .dataframe thead th {\n",
       "        text-align: right;\n",
       "    }\n",
       "</style>\n",
       "<table border=\"1\" class=\"dataframe\">\n",
       "  <thead>\n",
       "    <tr style=\"text-align: right;\">\n",
       "      <th></th>\n",
       "      <th>Unnamed: 0</th>\n",
       "      <th>Education</th>\n",
       "      <th>Seniority</th>\n",
       "      <th>Income</th>\n",
       "    </tr>\n",
       "  </thead>\n",
       "  <tbody>\n",
       "    <tr>\n",
       "      <th>count</th>\n",
       "      <td>30.000000</td>\n",
       "      <td>30.000000</td>\n",
       "      <td>30.000000</td>\n",
       "      <td>30.000000</td>\n",
       "    </tr>\n",
       "    <tr>\n",
       "      <th>mean</th>\n",
       "      <td>15.500000</td>\n",
       "      <td>16.386207</td>\n",
       "      <td>93.862069</td>\n",
       "      <td>62.744733</td>\n",
       "    </tr>\n",
       "    <tr>\n",
       "      <th>std</th>\n",
       "      <td>8.803408</td>\n",
       "      <td>3.810622</td>\n",
       "      <td>55.715623</td>\n",
       "      <td>27.013285</td>\n",
       "    </tr>\n",
       "    <tr>\n",
       "      <th>min</th>\n",
       "      <td>1.000000</td>\n",
       "      <td>10.000000</td>\n",
       "      <td>20.000000</td>\n",
       "      <td>17.613593</td>\n",
       "    </tr>\n",
       "    <tr>\n",
       "      <th>25%</th>\n",
       "      <td>8.250000</td>\n",
       "      <td>12.482759</td>\n",
       "      <td>44.827586</td>\n",
       "      <td>36.392043</td>\n",
       "    </tr>\n",
       "    <tr>\n",
       "      <th>50%</th>\n",
       "      <td>15.500000</td>\n",
       "      <td>17.034483</td>\n",
       "      <td>94.482759</td>\n",
       "      <td>70.804791</td>\n",
       "    </tr>\n",
       "    <tr>\n",
       "      <th>75%</th>\n",
       "      <td>22.750000</td>\n",
       "      <td>19.931034</td>\n",
       "      <td>133.275862</td>\n",
       "      <td>85.930608</td>\n",
       "    </tr>\n",
       "    <tr>\n",
       "      <th>max</th>\n",
       "      <td>30.000000</td>\n",
       "      <td>21.586207</td>\n",
       "      <td>187.586207</td>\n",
       "      <td>99.917173</td>\n",
       "    </tr>\n",
       "  </tbody>\n",
       "</table>\n",
       "</div>"
      ],
      "text/plain": [
       "       Unnamed: 0  Education   Seniority     Income\n",
       "count   30.000000  30.000000   30.000000  30.000000\n",
       "mean    15.500000  16.386207   93.862069  62.744733\n",
       "std      8.803408   3.810622   55.715623  27.013285\n",
       "min      1.000000  10.000000   20.000000  17.613593\n",
       "25%      8.250000  12.482759   44.827586  36.392043\n",
       "50%     15.500000  17.034483   94.482759  70.804791\n",
       "75%     22.750000  19.931034  133.275862  85.930608\n",
       "max     30.000000  21.586207  187.586207  99.917173"
      ]
     },
     "execution_count": 4,
     "metadata": {},
     "output_type": "execute_result"
    }
   ],
   "source": [
    "#3.Describe the data using descriptive statistics such as measures of central tendancy, dispersion or association.\n",
    "income_data.describe()"
   ]
  },
  {
   "cell_type": "markdown",
   "metadata": {},
   "source": [
    "#3. Describe the data using descriptive statistics such as measures of central tendancy, dispersion or association\n",
    "\n",
    "Ans:There are total 30 observations with 3 major variables to be consider. They are Education,Seniority and Income and all the 3 variable are continuous.\n",
    "Education:It is describing the years of education and the range is in between 10 to 21.586207.The mean value is 16.38 and median in 17.034.\n",
    "Seniority:It is describing the serniority in the unit of months and its range is in between 20 to 187.58. The mean and median value are 93.86 and 94.48 respectively.\n",
    "Income:It is describing the income in thousand units. The range of this variable is 17.613 to 99.917 and the mean and median value are 62.744 and 70.804 respectively"
   ]
  },
  {
   "cell_type": "code",
   "execution_count": 5,
   "metadata": {},
   "outputs": [
    {
     "data": {
      "image/png": "[encoded data removed]",
      "text/plain": [
       "<Figure size 432x288 with 1 Axes>"
      ]
     },
     "metadata": {
      "needs_background": "light"
     },
     "output_type": "display_data"
    }
   ],
   "source": [
    "plt.boxplot(income_data.Income);\n"
   ]
  },
  {
   "cell_type": "code",
   "execution_count": 6,
   "metadata": {},
   "outputs": [
    {
     "data": {
      "image/png": "[encoded data removed]",
      "text/plain": [
       "<Figure size 432x288 with 1 Axes>"
      ]
     },
     "metadata": {
      "needs_background": "light"
     },
     "output_type": "display_data"
    }
   ],
   "source": [
    "plt.boxplot(income_data.Seniority);"
   ]
  },
  {
   "cell_type": "code",
   "execution_count": 7,
   "metadata": {},
   "outputs": [
    {
     "data": {
      "image/png": "[encoded data removed]",
      "text/plain": [
       "<Figure size 432x288 with 1 Axes>"
      ]
     },
     "metadata": {
      "needs_background": "light"
     },
     "output_type": "display_data"
    }
   ],
   "source": [
    "plt.boxplot(income_data.Income);"
   ]
  },
  {
   "cell_type": "code",
   "execution_count": 8,
   "metadata": {},
   "outputs": [
    {
     "data": {
      "image/png": "[encoded data removed]",
      "text/plain": [
       "<Figure size 432x288 with 1 Axes>"
      ]
     },
     "metadata": {
      "needs_background": "light"
     },
     "output_type": "display_data"
    }
   ],
   "source": [
    "plt.scatter(income_data.Education, income_data.Income)\n",
    "plt.title('Education versus Income')\n",
    "plt.xlabel('EDucation in Years')\n",
    "plt.ylabel('Income in Thousand Dollars');"
   ]
  },
  {
   "cell_type": "code",
   "execution_count": 9,
   "metadata": {},
   "outputs": [
    {
     "data": {
      "image/png": "[encoded data removed]",
      "text/plain": [
       "<Figure size 432x288 with 1 Axes>"
      ]
     },
     "metadata": {
      "needs_background": "light"
     },
     "output_type": "display_data"
    }
   ],
   "source": [
    "plt.scatter(income_data.Seniority, income_data.Income)\n",
    "plt.title('Seniority versus Income')\n",
    "plt.xlabel('Seniority in ')\n",
    "plt.ylabel('Income in Thousand Dollars');"
   ]
  },
  {
   "cell_type": "code",
   "execution_count": 10,
   "metadata": {},
   "outputs": [
    {
     "data": {
      "image/png": "[encoded data removed]",
      "text/plain": [
       "<Figure size 432x288 with 1 Axes>"
      ]
     },
     "metadata": {
      "needs_background": "light"
     },
     "output_type": "display_data"
    }
   ],
   "source": [
    "pd.DataFrame(income_data['Education']).plot(kind=\"density\", figsize=(6,4)); "
   ]
  },
  {
   "cell_type": "code",
   "execution_count": 11,
   "metadata": {},
   "outputs": [
    {
     "data": {
      "image/png": "[encoded data removed]",
      "text/plain": [
       "<Figure size 432x288 with 1 Axes>"
      ]
     },
     "metadata": {
      "needs_background": "light"
     },
     "output_type": "display_data"
    }
   ],
   "source": [
    "pd.DataFrame(income_data['Income']).plot(kind=\"density\", figsize=(6,4)); "
   ]
  },
  {
   "cell_type": "code",
   "execution_count": 12,
   "metadata": {},
   "outputs": [
    {
     "data": {
      "image/png": "[encoded data removed]",
      "text/plain": [
       "<Figure size 432x288 with 1 Axes>"
      ]
     },
     "metadata": {
      "needs_background": "light"
     },
     "output_type": "display_data"
    }
   ],
   "source": [
    "pd.DataFrame(income_data['Seniority']).plot(kind=\"density\", figsize=(6,4)); "
   ]
  },
  {
   "cell_type": "markdown",
   "metadata": {},
   "source": [
    "4.Explore the data by vizualing it through various figures. Clearly explain or interpret each figure, justify the appropriateness of the tool used for visualization, highlight the information it provides, and,finally, explain how this information affect your further analysis.\n",
    "\n",
    "Ans:Here income is treated as the dependent variable while Education and seniority are considered to be independent variables.\n",
    "\n",
    "Scatter plot is drawn to visualize the linear relationship between dependent and Independent variables. When Years of Education increases the Income also increases. Similarly when seniority increases the income also increases however here variable are more dispersed.\n",
    "\n",
    "Box plot is drawn to spot any outlier observations in the variable. Density plot is drawn to see the distribution of the independent variable. From the above density plot it is observed that all the 3 data have normally distributed (a bell shaped curve), without being skewed to the left or right."
   ]
  },
  {
   "cell_type": "code",
   "execution_count": 13,
   "metadata": {},
   "outputs": [
    {
     "data": {
      "text/plain": [
       "LinearRegression(copy_X=True, fit_intercept=True, n_jobs=None,\n",
       "         normalize=False)"
      ]
     },
     "execution_count": 13,
     "metadata": {},
     "output_type": "execute_result"
    }
   ],
   "source": [
    "#5.Model Income as a linear function of Years of Education. What are your independent and dependent variables? \n",
    "#What type of model did you use? Why?\n",
    "\n",
    "from sklearn.linear_model import LinearRegression\n",
    "\n",
    "# initialize the model first\n",
    "lr = LinearRegression()\n",
    "# fit the model and feed the data\n",
    "lr.fit(X = income_data[ ['Education'] ], y = income_data['Income'])"
   ]
  },
  {
   "cell_type": "code",
   "execution_count": 14,
   "metadata": {},
   "outputs": [
    {
     "name": "stdout",
     "output_type": "stream",
     "text": [
      "-41.91661220978736 [6.38716122]\n"
     ]
    }
   ],
   "source": [
    "print(lr.intercept_, lr.coef_)"
   ]
  },
  {
   "cell_type": "markdown",
   "metadata": {},
   "source": [
    "5.Ans:Years of Education is the independent and Income is the dependent variables\n",
    "\n",
    "Ans:Here Income is treated as the dependent variable while Education and Seniority are considered to be independent variables.\n",
    "\n",
    "From the Scatter plot we can see when Years of Education increases the Income also increases. Similarly when seniority increases the income also increases however here variable are more dispersed. Therfore we can use Linear regression model for this ."
   ]
  },
  {
   "cell_type": "code",
   "execution_count": 15,
   "metadata": {},
   "outputs": [
    {
     "data": {
      "image/png": "[encoded data removed]",
      "text/plain": [
       "<Figure size 432x288 with 1 Axes>"
      ]
     },
     "metadata": {
      "needs_background": "light"
     },
     "output_type": "display_data"
    }
   ],
   "source": [
    "#6.Scatterplot the dependent and independent variables used in the model versus each other. \n",
    "plt.scatter(income_data.Education, income_data.Income)\n",
    "plt.title('Education versus Income')\n",
    "plt.xlabel('EDucation in Years')\n",
    "plt.ylabel('Income in Thousand Dollars');"
   ]
  },
  {
   "cell_type": "code",
   "execution_count": 16,
   "metadata": {},
   "outputs": [
    {
     "data": {
      "image/png": "[encoded data removed]",
      "text/plain": [
       "<Figure size 432x288 with 1 Axes>"
      ]
     },
     "metadata": {
      "needs_background": "light"
     },
     "output_type": "display_data"
    }
   ],
   "source": [
    "plt.scatter(income_data.Seniority, income_data.Income)\n",
    "plt.title('Seniority versus Income')\n",
    "plt.xlabel('Seniority in ')\n",
    "plt.ylabel('Income in Thousand Dollars');"
   ]
  },
  {
   "cell_type": "markdown",
   "metadata": {},
   "source": [
    "6.Based on the scatterplot, do you think a linear model is an adequate model for the data in hand? Discuss your answer.\n",
    "\n",
    "Ans:From the Scatter plot we can see when Years of Education increases the Income also increases. Similarly when seniority increases the income also increases however here variable are more dispersed. Therefore we can use Linear regression model for this ."
   ]
  },
  {
   "cell_type": "code",
   "execution_count": 17,
   "metadata": {},
   "outputs": [
    {
     "data": {
      "text/html": [
       "<table class=\"simpletable\">\n",
       "<caption>OLS Regression Results</caption>\n",
       "<tr>\n",
       "  <th>Dep. Variable:</th>         <td>Income</td>      <th>  R-squared:         </th> <td>   0.812</td>\n",
       "</tr>\n",
       "<tr>\n",
       "  <th>Model:</th>                   <td>OLS</td>       <th>  Adj. R-squared:    </th> <td>   0.805</td>\n",
       "</tr>\n",
       "<tr>\n",
       "  <th>Method:</th>             <td>Least Squares</td>  <th>  F-statistic:       </th> <td>   120.8</td>\n",
       "</tr>\n",
       "<tr>\n",
       "  <th>Date:</th>             <td>Wed, 17 Apr 2019</td> <th>  Prob (F-statistic):</th> <td>1.15e-11</td>\n",
       "</tr>\n",
       "<tr>\n",
       "  <th>Time:</th>                 <td>13:47:10</td>     <th>  Log-Likelihood:    </th> <td> -115.90</td>\n",
       "</tr>\n",
       "<tr>\n",
       "  <th>No. Observations:</th>      <td>    30</td>      <th>  AIC:               </th> <td>   235.8</td>\n",
       "</tr>\n",
       "<tr>\n",
       "  <th>Df Residuals:</th>          <td>    28</td>      <th>  BIC:               </th> <td>   238.6</td>\n",
       "</tr>\n",
       "<tr>\n",
       "  <th>Df Model:</th>              <td>     1</td>      <th>                     </th>     <td> </td>   \n",
       "</tr>\n",
       "<tr>\n",
       "  <th>Covariance Type:</th>      <td>nonrobust</td>    <th>                     </th>     <td> </td>   \n",
       "</tr>\n",
       "</table>\n",
       "<table class=\"simpletable\">\n",
       "<tr>\n",
       "      <td></td>         <th>coef</th>     <th>std err</th>      <th>t</th>      <th>P>|t|</th>  <th>[0.025</th>    <th>0.975]</th>  \n",
       "</tr>\n",
       "<tr>\n",
       "  <th>Intercept</th> <td>  -41.9166</td> <td>    9.769</td> <td>   -4.291</td> <td> 0.000</td> <td>  -61.927</td> <td>  -21.906</td>\n",
       "</tr>\n",
       "<tr>\n",
       "  <th>Education</th> <td>    6.3872</td> <td>    0.581</td> <td>   10.990</td> <td> 0.000</td> <td>    5.197</td> <td>    7.578</td>\n",
       "</tr>\n",
       "</table>\n",
       "<table class=\"simpletable\">\n",
       "<tr>\n",
       "  <th>Omnibus:</th>       <td> 0.561</td> <th>  Durbin-Watson:     </th> <td>   2.194</td>\n",
       "</tr>\n",
       "<tr>\n",
       "  <th>Prob(Omnibus):</th> <td> 0.756</td> <th>  Jarque-Bera (JB):  </th> <td>   0.652</td>\n",
       "</tr>\n",
       "<tr>\n",
       "  <th>Skew:</th>          <td> 0.140</td> <th>  Prob(JB):          </th> <td>   0.722</td>\n",
       "</tr>\n",
       "<tr>\n",
       "  <th>Kurtosis:</th>      <td> 2.335</td> <th>  Cond. No.          </th> <td>    75.7</td>\n",
       "</tr>\n",
       "</table><br/><br/>Warnings:<br/>[1] Standard Errors assume that the covariance matrix of the errors is correctly specified."
      ],
      "text/plain": [
       "<class 'statsmodels.iolib.summary.Summary'>\n",
       "\"\"\"\n",
       "                            OLS Regression Results                            \n",
       "==============================================================================\n",
       "Dep. Variable:                 Income   R-squared:                       0.812\n",
       "Model:                            OLS   Adj. R-squared:                  0.805\n",
       "Method:                 Least Squares   F-statistic:                     120.8\n",
       "Date:                Wed, 17 Apr 2019   Prob (F-statistic):           1.15e-11\n",
       "Time:                        13:47:10   Log-Likelihood:                -115.90\n",
       "No. Observations:                  30   AIC:                             235.8\n",
       "Df Residuals:                      28   BIC:                             238.6\n",
       "Df Model:                           1                                         \n",
       "Covariance Type:            nonrobust                                         \n",
       "==============================================================================\n",
       "                 coef    std err          t      P>|t|      [0.025      0.975]\n",
       "------------------------------------------------------------------------------\n",
       "Intercept    -41.9166      9.769     -4.291      0.000     -61.927     -21.906\n",
       "Education      6.3872      0.581     10.990      0.000       5.197       7.578\n",
       "==============================================================================\n",
       "Omnibus:                        0.561   Durbin-Watson:                   2.194\n",
       "Prob(Omnibus):                  0.756   Jarque-Bera (JB):                0.652\n",
       "Skew:                           0.140   Prob(JB):                        0.722\n",
       "Kurtosis:                       2.335   Cond. No.                         75.7\n",
       "==============================================================================\n",
       "\n",
       "Warnings:\n",
       "[1] Standard Errors assume that the covariance matrix of the errors is correctly specified.\n",
       "\"\"\""
      ]
     },
     "execution_count": 17,
     "metadata": {},
     "output_type": "execute_result"
    }
   ],
   "source": [
    "#7.Print the slope of the fitted line out provide a  95%  confidence interval for the estimate slope.\n",
    "model = smf.ols('Income ~ Education', data=income_data)\n",
    "lr_model = model.fit()\n",
    "\n",
    "#Print out the statistics\n",
    "lr_model.summary()\n"
   ]
  },
  {
   "cell_type": "code",
   "execution_count": 18,
   "metadata": {},
   "outputs": [
    {
     "data": {
      "text/plain": [
       "[<matplotlib.lines.Line2D at 0x3dcc08c240>]"
      ]
     },
     "execution_count": 18,
     "metadata": {},
     "output_type": "execute_result"
    },
    {
     "data": {
      "text/plain": [
       "[<matplotlib.lines.Line2D at 0x3dcc05a828>]"
      ]
     },
     "execution_count": 18,
     "metadata": {},
     "output_type": "execute_result"
    },
    {
     "data": {
      "text/plain": [
       "Text(0.5, 0, 'Education')"
      ]
     },
     "execution_count": 18,
     "metadata": {},
     "output_type": "execute_result"
    },
    {
     "data": {
      "text/plain": [
       "Text(0, 0.5, 'Income')"
      ]
     },
     "execution_count": 18,
     "metadata": {},
     "output_type": "execute_result"
    },
    {
     "data": {
      "text/plain": [
       "Text(0.5, 1.0, 'Education vs Income')"
      ]
     },
     "execution_count": 18,
     "metadata": {},
     "output_type": "execute_result"
    },
    {
     "data": {
      "image/png": "[encoded data removed]",
      "text/plain": [
       "<Figure size 432x288 with 1 Axes>"
      ]
     },
     "metadata": {
      "needs_background": "light"
     },
     "output_type": "display_data"
    }
   ],
   "source": [
    "#8.Add the fitted line over the scatterplot\n",
    "\n",
    "plt.plot(income_data.Education, income_data.Income, 'or', mfc='none')\n",
    "# add a regression line\n",
    "plt.plot(income_data.Education, lr_model.params.Intercept+lr_model.params.Education*income_data.Education, \"-b\");\n",
    "plt.xlabel('Education')\n",
    "plt.ylabel('Income')\n",
    "plt.title('Education vs Income')"
   ]
  },
  {
   "cell_type": "code",
   "execution_count": 19,
   "metadata": {
    "scrolled": true
   },
   "outputs": [
    {
     "name": "stdout",
     "output_type": "stream",
     "text": [
      "[19.61549131 16.58842926 19.25373651 18.94354861 13.02007419 17.39542008\n",
      " 16.65419413 19.71966697 16.49748496 14.72006958]\n"
     ]
    },
    {
     "data": {
      "text/plain": [
       "LinearRegression(copy_X=True, fit_intercept=True, n_jobs=None,\n",
       "         normalize=False)"
      ]
     },
     "execution_count": 19,
     "metadata": {},
     "output_type": "execute_result"
    },
    {
     "name": "stdout",
     "output_type": "stream",
     "text": [
      "The predicted Income are: [[83.37069311]\n",
      " [64.0363598 ]\n",
      " [81.06010694]\n",
      " [79.07888681]\n",
      " [41.24470068]\n",
      " [69.19074026]\n",
      " [64.45641066]\n",
      " [84.03607989]\n",
      " [63.45548389]\n",
      " [52.10284535]]\n"
     ]
    }
   ],
   "source": [
    "#9.Using the discrete uniform distribution, randomly generate  10  numbers between the  25  and  75  percentiles of the variable\n",
    "# Years of Education in the original data. If these numbers represent years of education for  10  employees, \n",
    "# then predict each person's Income due to your model. \n",
    "\n",
    "#25  and  75  percentiles of the variable\n",
    "q1 = np.percentile(income_data.Education, 25) # 25%\n",
    "q2 = np.percentile(income_data.Education, 75) # 75%\n",
    "\n",
    "#Using the discrete uniform distribution, randomly generate  10  numbers between the  25  and  75  percentiles of the variable\n",
    "#'Years of Education' in the original data.\n",
    "uniform_data = stats.uniform.rvs(size=10,  # Generate 100000 numbers\n",
    "                                 loc = q1 ,      # From 25% \n",
    "                                 scale= q2 - q1)     # To 75%\n",
    "print(uniform_data)\n",
    "\n",
    "#If these numbers represent years of education for  10  employees,then predict each person's Income due to your model.\n",
    "# initialize the model first\n",
    "lr = LinearRegression()\n",
    "# fit the model and feed the data\n",
    "lr.fit(X = income_data[ ['Education'] ], y = income_data['Income'])\n",
    "print('The predicted Income are:',lr.predict(uniform_data.reshape(10,1)).reshape(10,1))\n"
   ]
  },
  {
   "cell_type": "markdown",
   "metadata": {},
   "source": [
    "10.Now, model  Income as a linear function of both Years of Education and Seniority. \n",
    "What type of model did you use? How many parameters (coefficients) does this model have?"
   ]
  },
  {
   "cell_type": "code",
   "execution_count": 20,
   "metadata": {},
   "outputs": [
    {
     "data": {
      "text/html": [
       "<table class=\"simpletable\">\n",
       "<caption>OLS Regression Results</caption>\n",
       "<tr>\n",
       "  <th>Dep. Variable:</th>         <td>Income</td>      <th>  R-squared:         </th> <td>   0.934</td>\n",
       "</tr>\n",
       "<tr>\n",
       "  <th>Model:</th>                   <td>OLS</td>       <th>  Adj. R-squared:    </th> <td>   0.929</td>\n",
       "</tr>\n",
       "<tr>\n",
       "  <th>Method:</th>             <td>Least Squares</td>  <th>  F-statistic:       </th> <td>   191.4</td>\n",
       "</tr>\n",
       "<tr>\n",
       "  <th>Date:</th>             <td>Wed, 17 Apr 2019</td> <th>  Prob (F-statistic):</th> <td>1.13e-16</td>\n",
       "</tr>\n",
       "<tr>\n",
       "  <th>Time:</th>                 <td>13:47:12</td>     <th>  Log-Likelihood:    </th> <td> -100.15</td>\n",
       "</tr>\n",
       "<tr>\n",
       "  <th>No. Observations:</th>      <td>    30</td>      <th>  AIC:               </th> <td>   206.3</td>\n",
       "</tr>\n",
       "<tr>\n",
       "  <th>Df Residuals:</th>          <td>    27</td>      <th>  BIC:               </th> <td>   210.5</td>\n",
       "</tr>\n",
       "<tr>\n",
       "  <th>Df Model:</th>              <td>     2</td>      <th>                     </th>     <td> </td>   \n",
       "</tr>\n",
       "<tr>\n",
       "  <th>Covariance Type:</th>      <td>nonrobust</td>    <th>                     </th>     <td> </td>   \n",
       "</tr>\n",
       "</table>\n",
       "<table class=\"simpletable\">\n",
       "<tr>\n",
       "      <td></td>         <th>coef</th>     <th>std err</th>      <th>t</th>      <th>P>|t|</th>  <th>[0.025</th>    <th>0.975]</th>  \n",
       "</tr>\n",
       "<tr>\n",
       "  <th>Intercept</th> <td>  -50.0856</td> <td>    5.999</td> <td>   -8.349</td> <td> 0.000</td> <td>  -62.394</td> <td>  -37.777</td>\n",
       "</tr>\n",
       "<tr>\n",
       "  <th>Education</th> <td>    5.8956</td> <td>    0.357</td> <td>   16.513</td> <td> 0.000</td> <td>    5.163</td> <td>    6.628</td>\n",
       "</tr>\n",
       "<tr>\n",
       "  <th>Seniority</th> <td>    0.1729</td> <td>    0.024</td> <td>    7.079</td> <td> 0.000</td> <td>    0.123</td> <td>    0.223</td>\n",
       "</tr>\n",
       "</table>\n",
       "<table class=\"simpletable\">\n",
       "<tr>\n",
       "  <th>Omnibus:</th>       <td> 3.352</td> <th>  Durbin-Watson:     </th> <td>   2.102</td>\n",
       "</tr>\n",
       "<tr>\n",
       "  <th>Prob(Omnibus):</th> <td> 0.187</td> <th>  Jarque-Bera (JB):  </th> <td>   2.672</td>\n",
       "</tr>\n",
       "<tr>\n",
       "  <th>Skew:</th>          <td> 0.729</td> <th>  Prob(JB):          </th> <td>   0.263</td>\n",
       "</tr>\n",
       "<tr>\n",
       "  <th>Kurtosis:</th>      <td> 2.892</td> <th>  Cond. No.          </th> <td>    502.</td>\n",
       "</tr>\n",
       "</table><br/><br/>Warnings:<br/>[1] Standard Errors assume that the covariance matrix of the errors is correctly specified."
      ],
      "text/plain": [
       "<class 'statsmodels.iolib.summary.Summary'>\n",
       "\"\"\"\n",
       "                            OLS Regression Results                            \n",
       "==============================================================================\n",
       "Dep. Variable:                 Income   R-squared:                       0.934\n",
       "Model:                            OLS   Adj. R-squared:                  0.929\n",
       "Method:                 Least Squares   F-statistic:                     191.4\n",
       "Date:                Wed, 17 Apr 2019   Prob (F-statistic):           1.13e-16\n",
       "Time:                        13:47:12   Log-Likelihood:                -100.15\n",
       "No. Observations:                  30   AIC:                             206.3\n",
       "Df Residuals:                      27   BIC:                             210.5\n",
       "Df Model:                           2                                         \n",
       "Covariance Type:            nonrobust                                         \n",
       "==============================================================================\n",
       "                 coef    std err          t      P>|t|      [0.025      0.975]\n",
       "------------------------------------------------------------------------------\n",
       "Intercept    -50.0856      5.999     -8.349      0.000     -62.394     -37.777\n",
       "Education      5.8956      0.357     16.513      0.000       5.163       6.628\n",
       "Seniority      0.1729      0.024      7.079      0.000       0.123       0.223\n",
       "==============================================================================\n",
       "Omnibus:                        3.352   Durbin-Watson:                   2.102\n",
       "Prob(Omnibus):                  0.187   Jarque-Bera (JB):                2.672\n",
       "Skew:                           0.729   Prob(JB):                        0.263\n",
       "Kurtosis:                       2.892   Cond. No.                         502.\n",
       "==============================================================================\n",
       "\n",
       "Warnings:\n",
       "[1] Standard Errors assume that the covariance matrix of the errors is correctly specified.\n",
       "\"\"\""
      ]
     },
     "execution_count": 20,
     "metadata": {},
     "output_type": "execute_result"
    }
   ],
   "source": [
    "model_mult = smf.ols('Income ~ Education + Seniority', data=income_data)\n",
    "lr_model_mult = model_mult.fit()\n",
    "\n",
    "#Print out the statistics\n",
    "lr_model_mult.summary()"
   ]
  },
  {
   "cell_type": "markdown",
   "metadata": {},
   "source": [
    "Ans: From the model we can see it is a Linear Regression model as the method used is least squares. There are 2 parameters (coefficients) are here one for Education and one is for Seniority. For coeffiecients for 'Education' and 'Seniority' is:5.8956 and 0.1729 respectively."
   ]
  },
  {
   "cell_type": "code",
   "execution_count": 21,
   "metadata": {},
   "outputs": [
    {
     "data": {
      "text/plain": [
       "LinearRegression(copy_X=True, fit_intercept=True, n_jobs=None,\n",
       "         normalize=False)"
      ]
     },
     "execution_count": 21,
     "metadata": {},
     "output_type": "execute_result"
    },
    {
     "name": "stdout",
     "output_type": "stream",
     "text": [
      "The coefficients are [5.89555596 0.17285547]\n"
     ]
    }
   ],
   "source": [
    "#11.Print out the estimated coefficients after the model has been fitted\n",
    "lr_mult = LinearRegression()\n",
    "lr_mult.fit(X = income_data[ ['Education', 'Seniority'] ], y = income_data['Income'])\n",
    "print('The coefficients are', lr_mult.coef_)"
   ]
  },
  {
   "cell_type": "code",
   "execution_count": 22,
   "metadata": {},
   "outputs": [
    {
     "name": "stdout",
     "output_type": "stream",
     "text": [
      "[[18 60]]\n",
      "The income will be: [[66.4056967]]\n"
     ]
    }
   ],
   "source": [
    "#12.How much would be the Income of a new individual with  18  years of education and  60  years of seniority?\n",
    "X_new = np.array([18, 60])\n",
    "print(X_new.reshape(1,2))\n",
    "\n",
    "print(\"The income will be:\", lr_mult.predict(X_new.reshape(1,2)).reshape(1,1))"
   ]
  },
  {
   "cell_type": "code",
   "execution_count": 23,
   "metadata": {},
   "outputs": [
    {
     "data": {
      "text/html": [
       "<table class=\"simpletable\">\n",
       "<caption>OLS Regression Results</caption>\n",
       "<tr>\n",
       "  <th>Dep. Variable:</th>         <td>Income</td>      <th>  R-squared:         </th> <td>   0.812</td>\n",
       "</tr>\n",
       "<tr>\n",
       "  <th>Model:</th>                   <td>OLS</td>       <th>  Adj. R-squared:    </th> <td>   0.805</td>\n",
       "</tr>\n",
       "<tr>\n",
       "  <th>Method:</th>             <td>Least Squares</td>  <th>  F-statistic:       </th> <td>   120.8</td>\n",
       "</tr>\n",
       "<tr>\n",
       "  <th>Date:</th>             <td>Wed, 17 Apr 2019</td> <th>  Prob (F-statistic):</th> <td>1.15e-11</td>\n",
       "</tr>\n",
       "<tr>\n",
       "  <th>Time:</th>                 <td>13:47:16</td>     <th>  Log-Likelihood:    </th> <td> -115.90</td>\n",
       "</tr>\n",
       "<tr>\n",
       "  <th>No. Observations:</th>      <td>    30</td>      <th>  AIC:               </th> <td>   235.8</td>\n",
       "</tr>\n",
       "<tr>\n",
       "  <th>Df Residuals:</th>          <td>    28</td>      <th>  BIC:               </th> <td>   238.6</td>\n",
       "</tr>\n",
       "<tr>\n",
       "  <th>Df Model:</th>              <td>     1</td>      <th>                     </th>     <td> </td>   \n",
       "</tr>\n",
       "<tr>\n",
       "  <th>Covariance Type:</th>      <td>nonrobust</td>    <th>                     </th>     <td> </td>   \n",
       "</tr>\n",
       "</table>\n",
       "<table class=\"simpletable\">\n",
       "<tr>\n",
       "      <td></td>         <th>coef</th>     <th>std err</th>      <th>t</th>      <th>P>|t|</th>  <th>[0.025</th>    <th>0.975]</th>  \n",
       "</tr>\n",
       "<tr>\n",
       "  <th>Intercept</th> <td>  -41.9166</td> <td>    9.769</td> <td>   -4.291</td> <td> 0.000</td> <td>  -61.927</td> <td>  -21.906</td>\n",
       "</tr>\n",
       "<tr>\n",
       "  <th>Education</th> <td>    6.3872</td> <td>    0.581</td> <td>   10.990</td> <td> 0.000</td> <td>    5.197</td> <td>    7.578</td>\n",
       "</tr>\n",
       "</table>\n",
       "<table class=\"simpletable\">\n",
       "<tr>\n",
       "  <th>Omnibus:</th>       <td> 0.561</td> <th>  Durbin-Watson:     </th> <td>   2.194</td>\n",
       "</tr>\n",
       "<tr>\n",
       "  <th>Prob(Omnibus):</th> <td> 0.756</td> <th>  Jarque-Bera (JB):  </th> <td>   0.652</td>\n",
       "</tr>\n",
       "<tr>\n",
       "  <th>Skew:</th>          <td> 0.140</td> <th>  Prob(JB):          </th> <td>   0.722</td>\n",
       "</tr>\n",
       "<tr>\n",
       "  <th>Kurtosis:</th>      <td> 2.335</td> <th>  Cond. No.          </th> <td>    75.7</td>\n",
       "</tr>\n",
       "</table><br/><br/>Warnings:<br/>[1] Standard Errors assume that the covariance matrix of the errors is correctly specified."
      ],
      "text/plain": [
       "<class 'statsmodels.iolib.summary.Summary'>\n",
       "\"\"\"\n",
       "                            OLS Regression Results                            \n",
       "==============================================================================\n",
       "Dep. Variable:                 Income   R-squared:                       0.812\n",
       "Model:                            OLS   Adj. R-squared:                  0.805\n",
       "Method:                 Least Squares   F-statistic:                     120.8\n",
       "Date:                Wed, 17 Apr 2019   Prob (F-statistic):           1.15e-11\n",
       "Time:                        13:47:16   Log-Likelihood:                -115.90\n",
       "No. Observations:                  30   AIC:                             235.8\n",
       "Df Residuals:                      28   BIC:                             238.6\n",
       "Df Model:                           1                                         \n",
       "Covariance Type:            nonrobust                                         \n",
       "==============================================================================\n",
       "                 coef    std err          t      P>|t|      [0.025      0.975]\n",
       "------------------------------------------------------------------------------\n",
       "Intercept    -41.9166      9.769     -4.291      0.000     -61.927     -21.906\n",
       "Education      6.3872      0.581     10.990      0.000       5.197       7.578\n",
       "==============================================================================\n",
       "Omnibus:                        0.561   Durbin-Watson:                   2.194\n",
       "Prob(Omnibus):                  0.756   Jarque-Bera (JB):                0.652\n",
       "Skew:                           0.140   Prob(JB):                        0.722\n",
       "Kurtosis:                       2.335   Cond. No.                         75.7\n",
       "==============================================================================\n",
       "\n",
       "Warnings:\n",
       "[1] Standard Errors assume that the covariance matrix of the errors is correctly specified.\n",
       "\"\"\""
      ]
     },
     "execution_count": 23,
     "metadata": {},
     "output_type": "execute_result"
    }
   ],
   "source": [
    "#13.Argue which of Years of Education or Seniority is a stronger predictor of Income? Justify your comparison. \n",
    "#(Hint: take into consideration that these variables are in different units)\n",
    "model_Edu = smf.ols('Income ~ Education', data=income_data)\n",
    "lr_model_Edu = model_Edu.fit()\n",
    "lr_model_Edu.summary()"
   ]
  },
  {
   "cell_type": "code",
   "execution_count": 24,
   "metadata": {},
   "outputs": [
    {
     "data": {
      "text/html": [
       "<table class=\"simpletable\">\n",
       "<caption>OLS Regression Results</caption>\n",
       "<tr>\n",
       "  <th>Dep. Variable:</th>         <td>Income</td>      <th>  R-squared:         </th> <td>   0.269</td>\n",
       "</tr>\n",
       "<tr>\n",
       "  <th>Model:</th>                   <td>OLS</td>       <th>  Adj. R-squared:    </th> <td>   0.243</td>\n",
       "</tr>\n",
       "<tr>\n",
       "  <th>Method:</th>             <td>Least Squares</td>  <th>  F-statistic:       </th> <td>   10.28</td>\n",
       "</tr>\n",
       "<tr>\n",
       "  <th>Date:</th>             <td>Wed, 17 Apr 2019</td> <th>  Prob (F-statistic):</th>  <td>0.00335</td>\n",
       "</tr>\n",
       "<tr>\n",
       "  <th>Time:</th>                 <td>13:47:16</td>     <th>  Log-Likelihood:    </th> <td> -136.26</td>\n",
       "</tr>\n",
       "<tr>\n",
       "  <th>No. Observations:</th>      <td>    30</td>      <th>  AIC:               </th> <td>   276.5</td>\n",
       "</tr>\n",
       "<tr>\n",
       "  <th>Df Residuals:</th>          <td>    28</td>      <th>  BIC:               </th> <td>   279.3</td>\n",
       "</tr>\n",
       "<tr>\n",
       "  <th>Df Model:</th>              <td>     1</td>      <th>                     </th>     <td> </td>   \n",
       "</tr>\n",
       "<tr>\n",
       "  <th>Covariance Type:</th>      <td>nonrobust</td>    <th>                     </th>     <td> </td>   \n",
       "</tr>\n",
       "</table>\n",
       "<table class=\"simpletable\">\n",
       "<tr>\n",
       "      <td></td>         <th>coef</th>     <th>std err</th>      <th>t</th>      <th>P>|t|</th>  <th>[0.025</th>    <th>0.975]</th>  \n",
       "</tr>\n",
       "<tr>\n",
       "  <th>Intercept</th> <td>   39.1583</td> <td>    8.516</td> <td>    4.598</td> <td> 0.000</td> <td>   21.714</td> <td>   56.602</td>\n",
       "</tr>\n",
       "<tr>\n",
       "  <th>Seniority</th> <td>    0.2513</td> <td>    0.078</td> <td>    3.207</td> <td> 0.003</td> <td>    0.091</td> <td>    0.412</td>\n",
       "</tr>\n",
       "</table>\n",
       "<table class=\"simpletable\">\n",
       "<tr>\n",
       "  <th>Omnibus:</th>       <td> 7.403</td> <th>  Durbin-Watson:     </th> <td>   2.410</td>\n",
       "</tr>\n",
       "<tr>\n",
       "  <th>Prob(Omnibus):</th> <td> 0.025</td> <th>  Jarque-Bera (JB):  </th> <td>   2.253</td>\n",
       "</tr>\n",
       "<tr>\n",
       "  <th>Skew:</th>          <td>-0.208</td> <th>  Prob(JB):          </th> <td>   0.324</td>\n",
       "</tr>\n",
       "<tr>\n",
       "  <th>Kurtosis:</th>      <td> 1.724</td> <th>  Cond. No.          </th> <td>    216.</td>\n",
       "</tr>\n",
       "</table><br/><br/>Warnings:<br/>[1] Standard Errors assume that the covariance matrix of the errors is correctly specified."
      ],
      "text/plain": [
       "<class 'statsmodels.iolib.summary.Summary'>\n",
       "\"\"\"\n",
       "                            OLS Regression Results                            \n",
       "==============================================================================\n",
       "Dep. Variable:                 Income   R-squared:                       0.269\n",
       "Model:                            OLS   Adj. R-squared:                  0.243\n",
       "Method:                 Least Squares   F-statistic:                     10.28\n",
       "Date:                Wed, 17 Apr 2019   Prob (F-statistic):            0.00335\n",
       "Time:                        13:47:16   Log-Likelihood:                -136.26\n",
       "No. Observations:                  30   AIC:                             276.5\n",
       "Df Residuals:                      28   BIC:                             279.3\n",
       "Df Model:                           1                                         \n",
       "Covariance Type:            nonrobust                                         \n",
       "==============================================================================\n",
       "                 coef    std err          t      P>|t|      [0.025      0.975]\n",
       "------------------------------------------------------------------------------\n",
       "Intercept     39.1583      8.516      4.598      0.000      21.714      56.602\n",
       "Seniority      0.2513      0.078      3.207      0.003       0.091       0.412\n",
       "==============================================================================\n",
       "Omnibus:                        7.403   Durbin-Watson:                   2.410\n",
       "Prob(Omnibus):                  0.025   Jarque-Bera (JB):                2.253\n",
       "Skew:                          -0.208   Prob(JB):                        0.324\n",
       "Kurtosis:                       1.724   Cond. No.                         216.\n",
       "==============================================================================\n",
       "\n",
       "Warnings:\n",
       "[1] Standard Errors assume that the covariance matrix of the errors is correctly specified.\n",
       "\"\"\""
      ]
     },
     "execution_count": 24,
     "metadata": {},
     "output_type": "execute_result"
    }
   ],
   "source": [
    "model_Sen = smf.ols('Income ~ Seniority', data=income_data)\n",
    "lr_model_Sen = model_Sen.fit()\n",
    "lr_model_Sen.summary()"
   ]
  },
  {
   "cell_type": "markdown",
   "metadata": {},
   "source": [
    "Ans:Adjusted. R-squared reflects the fit of the model. R-squared values range from 0 to 1, where a higher value generally indicates a better fit.\n",
    "Comparing the R-Squared value for both the predictor Education and Seniority (which is 0.805 and 0.243 respectively) we can  see that Education~Income model has a better fitting. Therefore it can act as a stronger predictor for income. Also from the Prob (F-statistic)(p value) value shows that Education is a stronger predictor than Seniority.(Prob (F-statistic) for Education and Seniority are: :1.15e-11 & 0.00335 respectively)"
   ]
  },
  {
   "cell_type": "markdown",
   "metadata": {},
   "source": [
    "## Question 2 <span style=\"color:red\">(30 points)</span>\n",
    "\n",
    "1.  Download `Credit.csv` from http://www-bcf.usc.edu/~gareth/ISL/Credit.csv\n",
    "2.  Load the data into this Jupyter notebook. \n",
    "3.  Describe the data using descriptive statistics such as measures of central tendancy, dispersion or association.\n",
    "4.  Explore the data by vizualing it through various figures. Clearly explain or interpret each figure, justify the appropriateness of the tool used for visualization, highlight the information it provides, and, finally, explain how this information affect your further analysis.\n",
    "5.  Which variables of this dataset are **qualitative** and which ones are **quantitative**? Create an attribute (also called design) matrix  $\\mathbf{X}$ that includes only the following attributes:`Income`, `Limit`, `Rating`, `Cards`, `Age`, and `Education`.\n",
    "6.  Create a binary variable `Balance_1500` which equals $1$ for each observation if `Balance` $> 1500$ for that observation and equals $0$ otherwise.\n",
    "7.  Model `Balance_1500` by the explanatory variables mentionned in Step 5 using the following models: \n",
    "    + logistic regression, \n",
    "    + linear discriminant, and \n",
    "    + quadratic discriminant.\n",
    "8. Interpret the coefficients of `Income`, `Age`, and `Education` for the logistic regression model.    \n",
    "9. Find the probability of (`Balance` $> 1500$), for the following values, using all three aforementionned methods:\n",
    "\n",
    "|    Income    |    Limit     |     Rating     |    Cards     |      Age        |   Education   | \n",
    "|--------------|--------------|----------------|--------------|-----------------|---------------|\n",
    "|      63      |    8100      |     600        |      4       |       30        |      13       |\n",
    "|     186      |    13414     |     950        |      2       |       41        |      13       |\n",
    "\n",
    "    Compare the probabilities and comment.\n",
    "    \n",
    "10. For each method, print the confusion matrix, the accuracy score and the AUC using all observations. Compare these metrics and comment. \n",
    "11. Plot the ROC Curve of the three methods on the same figure. Comment."
   ]
  },
  {
   "cell_type": "code",
   "execution_count": 25,
   "metadata": {},
   "outputs": [
    {
     "data": {
      "text/html": [
       "<div>\n",
       "<style scoped>\n",
       "    .dataframe tbody tr th:only-of-type {\n",
       "        vertical-align: middle;\n",
       "    }\n",
       "\n",
       "    .dataframe tbody tr th {\n",
       "        vertical-align: top;\n",
       "    }\n",
       "\n",
       "    .dataframe thead th {\n",
       "        text-align: right;\n",
       "    }\n",
       "</style>\n",
       "<table border=\"1\" class=\"dataframe\">\n",
       "  <thead>\n",
       "    <tr style=\"text-align: right;\">\n",
       "      <th></th>\n",
       "      <th>Unnamed: 0</th>\n",
       "      <th>Income</th>\n",
       "      <th>Limit</th>\n",
       "      <th>Rating</th>\n",
       "      <th>Cards</th>\n",
       "      <th>Age</th>\n",
       "      <th>Education</th>\n",
       "      <th>Gender</th>\n",
       "      <th>Student</th>\n",
       "      <th>Married</th>\n",
       "      <th>Ethnicity</th>\n",
       "      <th>Balance</th>\n",
       "    </tr>\n",
       "  </thead>\n",
       "  <tbody>\n",
       "    <tr>\n",
       "      <th>0</th>\n",
       "      <td>1</td>\n",
       "      <td>14.891</td>\n",
       "      <td>3606</td>\n",
       "      <td>283</td>\n",
       "      <td>2</td>\n",
       "      <td>34</td>\n",
       "      <td>11</td>\n",
       "      <td>Male</td>\n",
       "      <td>No</td>\n",
       "      <td>Yes</td>\n",
       "      <td>Caucasian</td>\n",
       "      <td>333</td>\n",
       "    </tr>\n",
       "    <tr>\n",
       "      <th>1</th>\n",
       "      <td>2</td>\n",
       "      <td>106.025</td>\n",
       "      <td>6645</td>\n",
       "      <td>483</td>\n",
       "      <td>3</td>\n",
       "      <td>82</td>\n",
       "      <td>15</td>\n",
       "      <td>Female</td>\n",
       "      <td>Yes</td>\n",
       "      <td>Yes</td>\n",
       "      <td>Asian</td>\n",
       "      <td>903</td>\n",
       "    </tr>\n",
       "    <tr>\n",
       "      <th>2</th>\n",
       "      <td>3</td>\n",
       "      <td>104.593</td>\n",
       "      <td>7075</td>\n",
       "      <td>514</td>\n",
       "      <td>4</td>\n",
       "      <td>71</td>\n",
       "      <td>11</td>\n",
       "      <td>Male</td>\n",
       "      <td>No</td>\n",
       "      <td>No</td>\n",
       "      <td>Asian</td>\n",
       "      <td>580</td>\n",
       "    </tr>\n",
       "    <tr>\n",
       "      <th>3</th>\n",
       "      <td>4</td>\n",
       "      <td>148.924</td>\n",
       "      <td>9504</td>\n",
       "      <td>681</td>\n",
       "      <td>3</td>\n",
       "      <td>36</td>\n",
       "      <td>11</td>\n",
       "      <td>Female</td>\n",
       "      <td>No</td>\n",
       "      <td>No</td>\n",
       "      <td>Asian</td>\n",
       "      <td>964</td>\n",
       "    </tr>\n",
       "    <tr>\n",
       "      <th>4</th>\n",
       "      <td>5</td>\n",
       "      <td>55.882</td>\n",
       "      <td>4897</td>\n",
       "      <td>357</td>\n",
       "      <td>2</td>\n",
       "      <td>68</td>\n",
       "      <td>16</td>\n",
       "      <td>Male</td>\n",
       "      <td>No</td>\n",
       "      <td>Yes</td>\n",
       "      <td>Caucasian</td>\n",
       "      <td>331</td>\n",
       "    </tr>\n",
       "  </tbody>\n",
       "</table>\n",
       "</div>"
      ],
      "text/plain": [
       "   Unnamed: 0   Income  Limit  Rating  Cards  Age  Education  Gender Student  \\\n",
       "0           1   14.891   3606     283      2   34         11    Male      No   \n",
       "1           2  106.025   6645     483      3   82         15  Female     Yes   \n",
       "2           3  104.593   7075     514      4   71         11    Male      No   \n",
       "3           4  148.924   9504     681      3   36         11  Female      No   \n",
       "4           5   55.882   4897     357      2   68         16    Male      No   \n",
       "\n",
       "  Married  Ethnicity  Balance  \n",
       "0     Yes  Caucasian      333  \n",
       "1     Yes      Asian      903  \n",
       "2      No      Asian      580  \n",
       "3      No      Asian      964  \n",
       "4     Yes  Caucasian      331  "
      ]
     },
     "execution_count": 25,
     "metadata": {},
     "output_type": "execute_result"
    }
   ],
   "source": [
    "#1.Download Credit.csv from http://www-bcf.usc.edu/~gareth/ISL/Credit.csv\n",
    "#2.Load the data into this Jupyter notebook.\n",
    "path='data/'\n",
    "filename = path+'Credit.csv'\n",
    "Credit_data = pd.read_csv(filename)\n",
    "Credit_data.head()"
   ]
  },
  {
   "cell_type": "code",
   "execution_count": 26,
   "metadata": {},
   "outputs": [
    {
     "data": {
      "text/html": [
       "<div>\n",
       "<style scoped>\n",
       "    .dataframe tbody tr th:only-of-type {\n",
       "        vertical-align: middle;\n",
       "    }\n",
       "\n",
       "    .dataframe tbody tr th {\n",
       "        vertical-align: top;\n",
       "    }\n",
       "\n",
       "    .dataframe thead th {\n",
       "        text-align: right;\n",
       "    }\n",
       "</style>\n",
       "<table border=\"1\" class=\"dataframe\">\n",
       "  <thead>\n",
       "    <tr style=\"text-align: right;\">\n",
       "      <th></th>\n",
       "      <th>Unnamed: 0</th>\n",
       "      <th>Income</th>\n",
       "      <th>Limit</th>\n",
       "      <th>Rating</th>\n",
       "      <th>Cards</th>\n",
       "      <th>Age</th>\n",
       "      <th>Education</th>\n",
       "      <th>Balance</th>\n",
       "    </tr>\n",
       "  </thead>\n",
       "  <tbody>\n",
       "    <tr>\n",
       "      <th>count</th>\n",
       "      <td>400.000000</td>\n",
       "      <td>400.000000</td>\n",
       "      <td>400.000000</td>\n",
       "      <td>400.000000</td>\n",
       "      <td>400.000000</td>\n",
       "      <td>400.000000</td>\n",
       "      <td>400.000000</td>\n",
       "      <td>400.000000</td>\n",
       "    </tr>\n",
       "    <tr>\n",
       "      <th>mean</th>\n",
       "      <td>200.500000</td>\n",
       "      <td>45.218885</td>\n",
       "      <td>4735.600000</td>\n",
       "      <td>354.940000</td>\n",
       "      <td>2.957500</td>\n",
       "      <td>55.667500</td>\n",
       "      <td>13.450000</td>\n",
       "      <td>520.015000</td>\n",
       "    </tr>\n",
       "    <tr>\n",
       "      <th>std</th>\n",
       "      <td>115.614301</td>\n",
       "      <td>35.244273</td>\n",
       "      <td>2308.198848</td>\n",
       "      <td>154.724143</td>\n",
       "      <td>1.371275</td>\n",
       "      <td>17.249807</td>\n",
       "      <td>3.125207</td>\n",
       "      <td>459.758877</td>\n",
       "    </tr>\n",
       "    <tr>\n",
       "      <th>min</th>\n",
       "      <td>1.000000</td>\n",
       "      <td>10.354000</td>\n",
       "      <td>855.000000</td>\n",
       "      <td>93.000000</td>\n",
       "      <td>1.000000</td>\n",
       "      <td>23.000000</td>\n",
       "      <td>5.000000</td>\n",
       "      <td>0.000000</td>\n",
       "    </tr>\n",
       "    <tr>\n",
       "      <th>25%</th>\n",
       "      <td>100.750000</td>\n",
       "      <td>21.007250</td>\n",
       "      <td>3088.000000</td>\n",
       "      <td>247.250000</td>\n",
       "      <td>2.000000</td>\n",
       "      <td>41.750000</td>\n",
       "      <td>11.000000</td>\n",
       "      <td>68.750000</td>\n",
       "    </tr>\n",
       "    <tr>\n",
       "      <th>50%</th>\n",
       "      <td>200.500000</td>\n",
       "      <td>33.115500</td>\n",
       "      <td>4622.500000</td>\n",
       "      <td>344.000000</td>\n",
       "      <td>3.000000</td>\n",
       "      <td>56.000000</td>\n",
       "      <td>14.000000</td>\n",
       "      <td>459.500000</td>\n",
       "    </tr>\n",
       "    <tr>\n",
       "      <th>75%</th>\n",
       "      <td>300.250000</td>\n",
       "      <td>57.470750</td>\n",
       "      <td>5872.750000</td>\n",
       "      <td>437.250000</td>\n",
       "      <td>4.000000</td>\n",
       "      <td>70.000000</td>\n",
       "      <td>16.000000</td>\n",
       "      <td>863.000000</td>\n",
       "    </tr>\n",
       "    <tr>\n",
       "      <th>max</th>\n",
       "      <td>400.000000</td>\n",
       "      <td>186.634000</td>\n",
       "      <td>13913.000000</td>\n",
       "      <td>982.000000</td>\n",
       "      <td>9.000000</td>\n",
       "      <td>98.000000</td>\n",
       "      <td>20.000000</td>\n",
       "      <td>1999.000000</td>\n",
       "    </tr>\n",
       "  </tbody>\n",
       "</table>\n",
       "</div>"
      ],
      "text/plain": [
       "       Unnamed: 0      Income         Limit      Rating       Cards  \\\n",
       "count  400.000000  400.000000    400.000000  400.000000  400.000000   \n",
       "mean   200.500000   45.218885   4735.600000  354.940000    2.957500   \n",
       "std    115.614301   35.244273   2308.198848  154.724143    1.371275   \n",
       "min      1.000000   10.354000    855.000000   93.000000    1.000000   \n",
       "25%    100.750000   21.007250   3088.000000  247.250000    2.000000   \n",
       "50%    200.500000   33.115500   4622.500000  344.000000    3.000000   \n",
       "75%    300.250000   57.470750   5872.750000  437.250000    4.000000   \n",
       "max    400.000000  186.634000  13913.000000  982.000000    9.000000   \n",
       "\n",
       "              Age   Education      Balance  \n",
       "count  400.000000  400.000000   400.000000  \n",
       "mean    55.667500   13.450000   520.015000  \n",
       "std     17.249807    3.125207   459.758877  \n",
       "min     23.000000    5.000000     0.000000  \n",
       "25%     41.750000   11.000000    68.750000  \n",
       "50%     56.000000   14.000000   459.500000  \n",
       "75%     70.000000   16.000000   863.000000  \n",
       "max     98.000000   20.000000  1999.000000  "
      ]
     },
     "execution_count": 26,
     "metadata": {},
     "output_type": "execute_result"
    }
   ],
   "source": [
    "#3.Describe the data using descriptive statistics such as measures of central tendancy, dispersion or association.\n",
    "Credit_data.describe()"
   ]
  },
  {
   "cell_type": "markdown",
   "metadata": {},
   "source": [
    "3.Describe the data using descriptive statistics such as measures of central tendancy, dispersion or association.\n",
    "\n",
    "Ans:There are total 400 observations with data for Income,Limit,Rating,Cards,Age,Education,Gender,Student,Married,Ethinicity,Balance.Out of which ncome, Limit, Rating, Cards, Age, Education and Balance are continues, while Gender, Student, Married and Ethnicity are categorical.\n",
    "\n",
    "Income:It is describing the Income in thousand og units and the range is in between 10.35 to 186.63.The mean value is 45.21 and median is 33.11. Limit:It is describing the Credit limit and its range is in between 855 to 13913. The mean and median value are 4735.60 and 4622.50 respectively. Rating:It is describing the rating of the credit card. The range of this variable is 93 to 982 and the mean and median value are 354.94 and 344 respectively. Cards:It is describing the no of cards the card holder is having. The range of this variable is 1 to 9 and the mean and median value are 2.95 & 3 respectively. Age:It is describing the Age of the card holder in unit years.The range is in between 23 to 98 and the mean and median are 55.66 & 56 Respectively. Education:It is describing the years education the card holder is having. The range for this data is in between 5 to 20 yrs and the mean and median values are 13.45 and 14 respectively. Balance:It describes the Balance in the Credit card. The range for this data is in between 0 to 1999 and the mean and median values are 520 and 459.5 respectively.\n",
    "\n",
    "Gender: describes the gender of the card holder having 2 classes 'Male','Female'. Student:Describes whether the card holder is astudent or not and has 2 classes 'Yes' and 'No' Married:Describes whether the card holder is Married or not and 2 classes 'Yes' and 'No' Ethinicity:Describes the Ethnicity of the card holder and is having 3 classes 'Caucasian','Asian','African American'\n"
   ]
  },
  {
   "cell_type": "markdown",
   "metadata": {},
   "source": [
    "4.Explore the data by vizualing it through various figures. Clearly explain or interpret each figure, justify the appropriateness of the tool used for visualization, highlight the information it provides, and, finally, explain how this information affect your further analysis."
   ]
  },
  {
   "cell_type": "code",
   "execution_count": 27,
   "metadata": {},
   "outputs": [
    {
     "data": {
      "image/png": "[encoded data removed]",
      "text/plain": [
       "<Figure size 432x288 with 1 Axes>"
      ]
     },
     "metadata": {
      "needs_background": "light"
     },
     "output_type": "display_data"
    }
   ],
   "source": [
    "Credit_data['Student'].value_counts().plot(kind='bar');"
   ]
  },
  {
   "cell_type": "markdown",
   "metadata": {},
   "source": [
    "A bar chart is generally used to present relative quantities for multiple categories.In the above figure we can interprete how many card holders are student or not. Simlarly we cal plot for other categorical data to show different classes of those cariables."
   ]
  },
  {
   "cell_type": "code",
   "execution_count": 28,
   "metadata": {},
   "outputs": [
    {
     "data": {
      "text/plain": [
       "<matplotlib.axes._subplots.AxesSubplot at 0x3dcc98df60>"
      ]
     },
     "execution_count": 28,
     "metadata": {},
     "output_type": "execute_result"
    },
    {
     "data": {
      "image/png": "[encoded data removed]",
      "text/plain": [
       "<Figure size 432x288 with 1 Axes>"
      ]
     },
     "metadata": {
      "needs_background": "light"
     },
     "output_type": "display_data"
    }
   ],
   "source": [
    "\n",
    "Credit_data['Ethnicity'].value_counts().plot(kind='bar')"
   ]
  },
  {
   "cell_type": "markdown",
   "metadata": {},
   "source": [
    "A histogram plot is generally used to summarize the distribution of a data sample. A boxplot is generally used to summarize the distribution of a data sample"
   ]
  },
  {
   "cell_type": "code",
   "execution_count": 29,
   "metadata": {},
   "outputs": [
    {
     "data": {
      "image/png": "[encoded data removed]",
      "text/plain": [
       "<Figure size 432x288 with 1 Axes>"
      ]
     },
     "metadata": {
      "needs_background": "light"
     },
     "output_type": "display_data"
    }
   ],
   "source": [
    "plt.hist(Credit_data['Income'])\n",
    "plt.title('Income Distribution')\n",
    "plt.xlabel('Income in thousands($)')\n",
    "plt.ylabel('frequency');"
   ]
  },
  {
   "cell_type": "code",
   "execution_count": 30,
   "metadata": {},
   "outputs": [
    {
     "data": {
      "image/png": "[encoded data removed]",
      "text/plain": [
       "<Figure size 432x288 with 1 Axes>"
      ]
     },
     "metadata": {
      "needs_background": "light"
     },
     "output_type": "display_data"
    }
   ],
   "source": [
    "plt.boxplot(Credit_data.Income);"
   ]
  },
  {
   "cell_type": "markdown",
   "metadata": {},
   "source": [
    "For Income data many of the datas are outlier "
   ]
  },
  {
   "cell_type": "code",
   "execution_count": 31,
   "metadata": {},
   "outputs": [
    {
     "data": {
      "image/png": "[encoded data removed]",
      "text/plain": [
       "<Figure size 432x288 with 1 Axes>"
      ]
     },
     "metadata": {
      "needs_background": "light"
     },
     "output_type": "display_data"
    }
   ],
   "source": [
    "plt.boxplot(Credit_data.Age);"
   ]
  },
  {
   "cell_type": "code",
   "execution_count": 32,
   "metadata": {},
   "outputs": [
    {
     "data": {
      "image/png": "[encoded data removed]",
      "text/plain": [
       "<Figure size 432x288 with 1 Axes>"
      ]
     },
     "metadata": {
      "needs_background": "light"
     },
     "output_type": "display_data"
    }
   ],
   "source": [
    "plt.boxplot(Credit_data.Limit);"
   ]
  },
  {
   "cell_type": "markdown",
   "metadata": {},
   "source": [
    "Scatterplot matrix shows the relationship between two variables as dots in two dimensions"
   ]
  },
  {
   "cell_type": "code",
   "execution_count": 33,
   "metadata": {},
   "outputs": [
    {
     "data": {
      "image/png": "[encoded data removed]",
      "text/plain": [
       "<Figure size 432x288 with 1 Axes>"
      ]
     },
     "metadata": {
      "needs_background": "light"
     },
     "output_type": "display_data"
    }
   ],
   "source": [
    "plt.scatter(Credit_data.Age, Credit_data.Income)\n",
    "plt.title('Age versus Income')\n",
    "plt.xlabel('Age in Years')\n",
    "plt.ylabel('Income in Thousand Dollars');"
   ]
  },
  {
   "cell_type": "markdown",
   "metadata": {},
   "source": [
    "5.Which variables of this dataset are qualitative and which ones are quantitative? \n",
    "\n",
    "Ans:In this dataset 'Income','Limit','Rating','Cards','Age','Education' & 'Balance' are quantitative data.The other data as 'Gender','Student','Married','Ethinicity' are qualitative data.\n"
   ]
  },
  {
   "cell_type": "code",
   "execution_count": 34,
   "metadata": {},
   "outputs": [
    {
     "data": {
      "text/html": [
       "<div>\n",
       "<style scoped>\n",
       "    .dataframe tbody tr th:only-of-type {\n",
       "        vertical-align: middle;\n",
       "    }\n",
       "\n",
       "    .dataframe tbody tr th {\n",
       "        vertical-align: top;\n",
       "    }\n",
       "\n",
       "    .dataframe thead th {\n",
       "        text-align: right;\n",
       "    }\n",
       "</style>\n",
       "<table border=\"1\" class=\"dataframe\">\n",
       "  <thead>\n",
       "    <tr style=\"text-align: right;\">\n",
       "      <th></th>\n",
       "      <th>Income</th>\n",
       "      <th>Limit</th>\n",
       "      <th>Rating</th>\n",
       "      <th>Cards</th>\n",
       "      <th>Age</th>\n",
       "      <th>Education</th>\n",
       "      <th>Balance</th>\n",
       "    </tr>\n",
       "  </thead>\n",
       "  <tbody>\n",
       "    <tr>\n",
       "      <th>0</th>\n",
       "      <td>14.891</td>\n",
       "      <td>3606</td>\n",
       "      <td>283</td>\n",
       "      <td>2</td>\n",
       "      <td>34</td>\n",
       "      <td>11</td>\n",
       "      <td>333</td>\n",
       "    </tr>\n",
       "    <tr>\n",
       "      <th>1</th>\n",
       "      <td>106.025</td>\n",
       "      <td>6645</td>\n",
       "      <td>483</td>\n",
       "      <td>3</td>\n",
       "      <td>82</td>\n",
       "      <td>15</td>\n",
       "      <td>903</td>\n",
       "    </tr>\n",
       "    <tr>\n",
       "      <th>2</th>\n",
       "      <td>104.593</td>\n",
       "      <td>7075</td>\n",
       "      <td>514</td>\n",
       "      <td>4</td>\n",
       "      <td>71</td>\n",
       "      <td>11</td>\n",
       "      <td>580</td>\n",
       "    </tr>\n",
       "    <tr>\n",
       "      <th>3</th>\n",
       "      <td>148.924</td>\n",
       "      <td>9504</td>\n",
       "      <td>681</td>\n",
       "      <td>3</td>\n",
       "      <td>36</td>\n",
       "      <td>11</td>\n",
       "      <td>964</td>\n",
       "    </tr>\n",
       "    <tr>\n",
       "      <th>4</th>\n",
       "      <td>55.882</td>\n",
       "      <td>4897</td>\n",
       "      <td>357</td>\n",
       "      <td>2</td>\n",
       "      <td>68</td>\n",
       "      <td>16</td>\n",
       "      <td>331</td>\n",
       "    </tr>\n",
       "  </tbody>\n",
       "</table>\n",
       "</div>"
      ],
      "text/plain": [
       "    Income  Limit  Rating  Cards  Age  Education  Balance\n",
       "0   14.891   3606     283      2   34         11      333\n",
       "1  106.025   6645     483      3   82         15      903\n",
       "2  104.593   7075     514      4   71         11      580\n",
       "3  148.924   9504     681      3   36         11      964\n",
       "4   55.882   4897     357      2   68         16      331"
      ]
     },
     "execution_count": 34,
     "metadata": {},
     "output_type": "execute_result"
    }
   ],
   "source": [
    "#5.Create an attribute (also called design) matrix  𝐗  that includes only the \n",
    "# following attributes:Income, Limit, Rating, Cards, Age, and Education\n",
    "X = Credit_data[['Income', 'Limit', 'Rating', 'Cards', 'Age', 'Education', 'Balance']]\n",
    "X.head()"
   ]
  },
  {
   "cell_type": "code",
   "execution_count": 35,
   "metadata": {},
   "outputs": [
    {
     "name": "stderr",
     "output_type": "stream",
     "text": [
      "C:\\Users\\mana\\Anaconda3\\lib\\site-packages\\ipykernel_launcher.py:3: SettingWithCopyWarning: \n",
      "A value is trying to be set on a copy of a slice from a DataFrame.\n",
      "Try using .loc[row_indexer,col_indexer] = value instead\n",
      "\n",
      "See the caveats in the documentation: http://pandas.pydata.org/pandas-docs/stable/indexing.html#indexing-view-versus-copy\n",
      "  This is separate from the ipykernel package so we can avoid doing imports until\n"
     ]
    },
    {
     "data": {
      "text/html": [
       "<div>\n",
       "<style scoped>\n",
       "    .dataframe tbody tr th:only-of-type {\n",
       "        vertical-align: middle;\n",
       "    }\n",
       "\n",
       "    .dataframe tbody tr th {\n",
       "        vertical-align: top;\n",
       "    }\n",
       "\n",
       "    .dataframe thead th {\n",
       "        text-align: right;\n",
       "    }\n",
       "</style>\n",
       "<table border=\"1\" class=\"dataframe\">\n",
       "  <thead>\n",
       "    <tr style=\"text-align: right;\">\n",
       "      <th></th>\n",
       "      <th>Income</th>\n",
       "      <th>Limit</th>\n",
       "      <th>Rating</th>\n",
       "      <th>Cards</th>\n",
       "      <th>Age</th>\n",
       "      <th>Education</th>\n",
       "      <th>Balance</th>\n",
       "      <th>Balance_1500</th>\n",
       "    </tr>\n",
       "  </thead>\n",
       "  <tbody>\n",
       "    <tr>\n",
       "      <th>0</th>\n",
       "      <td>14.891</td>\n",
       "      <td>3606</td>\n",
       "      <td>283</td>\n",
       "      <td>2</td>\n",
       "      <td>34</td>\n",
       "      <td>11</td>\n",
       "      <td>333</td>\n",
       "      <td>0</td>\n",
       "    </tr>\n",
       "    <tr>\n",
       "      <th>1</th>\n",
       "      <td>106.025</td>\n",
       "      <td>6645</td>\n",
       "      <td>483</td>\n",
       "      <td>3</td>\n",
       "      <td>82</td>\n",
       "      <td>15</td>\n",
       "      <td>903</td>\n",
       "      <td>0</td>\n",
       "    </tr>\n",
       "    <tr>\n",
       "      <th>2</th>\n",
       "      <td>104.593</td>\n",
       "      <td>7075</td>\n",
       "      <td>514</td>\n",
       "      <td>4</td>\n",
       "      <td>71</td>\n",
       "      <td>11</td>\n",
       "      <td>580</td>\n",
       "      <td>0</td>\n",
       "    </tr>\n",
       "    <tr>\n",
       "      <th>3</th>\n",
       "      <td>148.924</td>\n",
       "      <td>9504</td>\n",
       "      <td>681</td>\n",
       "      <td>3</td>\n",
       "      <td>36</td>\n",
       "      <td>11</td>\n",
       "      <td>964</td>\n",
       "      <td>0</td>\n",
       "    </tr>\n",
       "    <tr>\n",
       "      <th>4</th>\n",
       "      <td>55.882</td>\n",
       "      <td>4897</td>\n",
       "      <td>357</td>\n",
       "      <td>2</td>\n",
       "      <td>68</td>\n",
       "      <td>16</td>\n",
       "      <td>331</td>\n",
       "      <td>0</td>\n",
       "    </tr>\n",
       "  </tbody>\n",
       "</table>\n",
       "</div>"
      ],
      "text/plain": [
       "    Income  Limit  Rating  Cards  Age  Education  Balance  Balance_1500\n",
       "0   14.891   3606     283      2   34         11      333             0\n",
       "1  106.025   6645     483      3   82         15      903             0\n",
       "2  104.593   7075     514      4   71         11      580             0\n",
       "3  148.924   9504     681      3   36         11      964             0\n",
       "4   55.882   4897     357      2   68         16      331             0"
      ]
     },
     "execution_count": 35,
     "metadata": {},
     "output_type": "execute_result"
    }
   ],
   "source": [
    "#6.Create a binary variable Balance_1500 which equals  1  for each observation if Balance  >1500  for that observation \n",
    "# and equals  0  otherwise\n",
    "X['Balance_1500'] = np.where(X['Balance']>1500, 1, 0)\n",
    "X.head()"
   ]
  },
  {
   "cell_type": "code",
   "execution_count": 36,
   "metadata": {},
   "outputs": [
    {
     "name": "stderr",
     "output_type": "stream",
     "text": [
      "C:\\Users\\mana\\Anaconda3\\lib\\site-packages\\sklearn\\linear_model\\logistic.py:433: FutureWarning: Default solver will be changed to 'lbfgs' in 0.22. Specify a solver to silence this warning.\n",
      "  FutureWarning)\n"
     ]
    },
    {
     "data": {
      "text/plain": [
       "LogisticRegression(C=1.0, class_weight=None, dual=False, fit_intercept=True,\n",
       "          intercept_scaling=1, max_iter=100, multi_class='warn',\n",
       "          n_jobs=None, penalty='l2', random_state=None, solver='warn',\n",
       "          tol=0.0001, verbose=0, warm_start=False)"
      ]
     },
     "execution_count": 36,
     "metadata": {},
     "output_type": "execute_result"
    }
   ],
   "source": [
    "#7.Model Balance_1500 by the explanatory variables mentionned in Step 5 using the following models\n",
    "X5 = X[['Income', 'Limit', 'Rating', 'Cards', 'Age', 'Education']]\n",
    "y = X['Balance_1500']\n",
    "\n",
    "#logistic regression\n",
    "from sklearn.linear_model import LogisticRegression\n",
    "lr = LogisticRegression()\n",
    "lr.fit(X5, y)"
   ]
  },
  {
   "cell_type": "code",
   "execution_count": 37,
   "metadata": {},
   "outputs": [
    {
     "data": {
      "text/plain": [
       "LinearDiscriminantAnalysis(n_components=None, priors=None, shrinkage=None,\n",
       "              solver='svd', store_covariance=False, tol=0.0001)"
      ]
     },
     "execution_count": 37,
     "metadata": {},
     "output_type": "execute_result"
    }
   ],
   "source": [
    "#LinearDiscriminantAnalysis\n",
    "from sklearn.discriminant_analysis import LinearDiscriminantAnalysis\n",
    "lda = LinearDiscriminantAnalysis()\n",
    "lda.fit(X5,y)"
   ]
  },
  {
   "cell_type": "code",
   "execution_count": 38,
   "metadata": {},
   "outputs": [
    {
     "data": {
      "text/plain": [
       "QuadraticDiscriminantAnalysis(priors=None, reg_param=0.0,\n",
       "               store_covariance=False, store_covariances=None, tol=0.0001)"
      ]
     },
     "execution_count": 38,
     "metadata": {},
     "output_type": "execute_result"
    }
   ],
   "source": [
    "from sklearn.discriminant_analysis import QuadraticDiscriminantAnalysis\n",
    "qda = QuadraticDiscriminantAnalysis()\n",
    "qda.fit(X5,y)"
   ]
  },
  {
   "cell_type": "code",
   "execution_count": 39,
   "metadata": {},
   "outputs": [
    {
     "name": "stdout",
     "output_type": "stream",
     "text": [
      "Optimization terminated successfully.\n",
      "         Current function value: 0.040712\n",
      "         Iterations 11\n"
     ]
    }
   ],
   "source": [
    "#8.Interpret the coefficients of Income, Age, and Education for the logistic regression model.\n",
    "import statsmodels.formula.api as smf\n",
    "lr_smf = smf.Logit.from_formula(formula = \"Balance_1500~Income+Limit+Rating+Cards+Age+Education\", \n",
    "                            data= X).fit()"
   ]
  },
  {
   "cell_type": "code",
   "execution_count": 40,
   "metadata": {},
   "outputs": [
    {
     "data": {
      "text/html": [
       "<table class=\"simpletable\">\n",
       "<caption>Logit Regression Results</caption>\n",
       "<tr>\n",
       "  <th>Dep. Variable:</th>   <td>Balance_1500</td>   <th>  No. Observations:  </th>  <td>   400</td>  \n",
       "</tr>\n",
       "<tr>\n",
       "  <th>Model:</th>               <td>Logit</td>      <th>  Df Residuals:      </th>  <td>   393</td>  \n",
       "</tr>\n",
       "<tr>\n",
       "  <th>Method:</th>               <td>MLE</td>       <th>  Df Model:          </th>  <td>     6</td>  \n",
       "</tr>\n",
       "<tr>\n",
       "  <th>Date:</th>          <td>Wed, 17 Apr 2019</td> <th>  Pseudo R-squ.:     </th>  <td>0.6217</td>  \n",
       "</tr>\n",
       "<tr>\n",
       "  <th>Time:</th>              <td>13:47:26</td>     <th>  Log-Likelihood:    </th> <td> -16.285</td> \n",
       "</tr>\n",
       "<tr>\n",
       "  <th>converged:</th>           <td>True</td>       <th>  LL-Null:           </th> <td> -43.046</td> \n",
       "</tr>\n",
       "<tr>\n",
       "  <th> </th>                      <td> </td>        <th>  LLR p-value:       </th> <td>9.206e-10</td>\n",
       "</tr>\n",
       "</table>\n",
       "<table class=\"simpletable\">\n",
       "<tr>\n",
       "      <td></td>         <th>coef</th>     <th>std err</th>      <th>z</th>      <th>P>|z|</th>  <th>[0.025</th>    <th>0.975]</th>  \n",
       "</tr>\n",
       "<tr>\n",
       "  <th>Intercept</th> <td>  -16.8495</td> <td>    6.048</td> <td>   -2.786</td> <td> 0.005</td> <td>  -28.703</td> <td>   -4.996</td>\n",
       "</tr>\n",
       "<tr>\n",
       "  <th>Income</th>    <td>   -0.0840</td> <td>    0.041</td> <td>   -2.043</td> <td> 0.041</td> <td>   -0.165</td> <td>   -0.003</td>\n",
       "</tr>\n",
       "<tr>\n",
       "  <th>Limit</th>     <td>    0.0019</td> <td>    0.004</td> <td>    0.520</td> <td> 0.603</td> <td>   -0.005</td> <td>    0.009</td>\n",
       "</tr>\n",
       "<tr>\n",
       "  <th>Rating</th>    <td>    0.0125</td> <td>    0.053</td> <td>    0.238</td> <td> 0.812</td> <td>   -0.091</td> <td>    0.116</td>\n",
       "</tr>\n",
       "<tr>\n",
       "  <th>Cards</th>     <td>    0.1227</td> <td>    0.416</td> <td>    0.295</td> <td> 0.768</td> <td>   -0.693</td> <td>    0.938</td>\n",
       "</tr>\n",
       "<tr>\n",
       "  <th>Age</th>       <td>   -0.0204</td> <td>    0.031</td> <td>   -0.654</td> <td> 0.513</td> <td>   -0.082</td> <td>    0.041</td>\n",
       "</tr>\n",
       "<tr>\n",
       "  <th>Education</th> <td>   -0.0747</td> <td>    0.142</td> <td>   -0.526</td> <td> 0.599</td> <td>   -0.353</td> <td>    0.204</td>\n",
       "</tr>\n",
       "</table><br/><br/>Possibly complete quasi-separation: A fraction 0.49 of observations can be<br/>perfectly predicted. This might indicate that there is complete<br/>quasi-separation. In this case some parameters will not be identified."
      ],
      "text/plain": [
       "<class 'statsmodels.iolib.summary.Summary'>\n",
       "\"\"\"\n",
       "                           Logit Regression Results                           \n",
       "==============================================================================\n",
       "Dep. Variable:           Balance_1500   No. Observations:                  400\n",
       "Model:                          Logit   Df Residuals:                      393\n",
       "Method:                           MLE   Df Model:                            6\n",
       "Date:                Wed, 17 Apr 2019   Pseudo R-squ.:                  0.6217\n",
       "Time:                        13:47:26   Log-Likelihood:                -16.285\n",
       "converged:                       True   LL-Null:                       -43.046\n",
       "                                        LLR p-value:                 9.206e-10\n",
       "==============================================================================\n",
       "                 coef    std err          z      P>|z|      [0.025      0.975]\n",
       "------------------------------------------------------------------------------\n",
       "Intercept    -16.8495      6.048     -2.786      0.005     -28.703      -4.996\n",
       "Income        -0.0840      0.041     -2.043      0.041      -0.165      -0.003\n",
       "Limit          0.0019      0.004      0.520      0.603      -0.005       0.009\n",
       "Rating         0.0125      0.053      0.238      0.812      -0.091       0.116\n",
       "Cards          0.1227      0.416      0.295      0.768      -0.693       0.938\n",
       "Age           -0.0204      0.031     -0.654      0.513      -0.082       0.041\n",
       "Education     -0.0747      0.142     -0.526      0.599      -0.353       0.204\n",
       "==============================================================================\n",
       "\n",
       "Possibly complete quasi-separation: A fraction 0.49 of observations can be\n",
       "perfectly predicted. This might indicate that there is complete\n",
       "quasi-separation. In this case some parameters will not be identified.\n",
       "\"\"\""
      ]
     },
     "execution_count": 40,
     "metadata": {},
     "output_type": "execute_result"
    }
   ],
   "source": [
    "lr_smf.summary()"
   ]
  },
  {
   "cell_type": "markdown",
   "metadata": {},
   "source": [
    "8.Interpretation\n",
    "\n",
    "Ans:After analysing the coefficients of all the variable, it is observed that 'Income','Age','Education' has inverse relationship with Balance_1500. The other datas such as 'Limit', 'Rating' and 'Cards' has +ve coefficient which indicates these variables are positively corelated with   Balance_1500."
   ]
  },
  {
   "cell_type": "markdown",
   "metadata": {},
   "source": [
    "9.Find the probability of (Balance  >1500 ), for the following values, using all three aforementionned methods:\n",
    "                Income\tLimit\tRating\tCards\tAge\tEducation\n",
    "                    63\t8100\t600\t4\t30\t13\n",
    "                    186\t13414\t950\t2\t41\t13\n",
    "Compare the probabilities and comment."
   ]
  },
  {
   "cell_type": "code",
   "execution_count": 59,
   "metadata": {},
   "outputs": [
    {
     "name": "stdout",
     "output_type": "stream",
     "text": [
      "[[   63  8100   600     4    30    13]\n",
      " [  186 13414   950     2    41    13]]\n"
     ]
    }
   ],
   "source": [
    "X_pred = np.array([63,8100,600,4,30,13,186,13414,950,2,41,13]).reshape(2,6)\n",
    "print(X_pred)"
   ]
  },
  {
   "cell_type": "code",
   "execution_count": 42,
   "metadata": {},
   "outputs": [
    {
     "data": {
      "text/plain": [
       "array([[0.90629018, 0.09370982],\n",
       "       [0.17306781, 0.82693219]])"
      ]
     },
     "execution_count": 42,
     "metadata": {},
     "output_type": "execute_result"
    }
   ],
   "source": [
    "lr.predict_proba(X_pred)\n",
    "y_pred_lr = lr.predict(X_pred)"
   ]
  },
  {
   "cell_type": "code",
   "execution_count": 43,
   "metadata": {},
   "outputs": [
    {
     "name": "stdout",
     "output_type": "stream",
     "text": [
      "[[0.94050988 0.05949012]\n",
      " [0.00721199 0.99278801]]\n"
     ]
    }
   ],
   "source": [
    "print(lda.predict_proba(X_pred))"
   ]
  },
  {
   "cell_type": "code",
   "execution_count": 44,
   "metadata": {},
   "outputs": [
    {
     "name": "stdout",
     "output_type": "stream",
     "text": [
      "[[9.99999995e-01 4.93626009e-09]\n",
      " [7.83057752e-04 9.99216942e-01]]\n"
     ]
    }
   ],
   "source": [
    "print(qda.predict_proba(X_pred))"
   ]
  },
  {
   "cell_type": "code",
   "execution_count": 45,
   "metadata": {},
   "outputs": [
    {
     "name": "stdout",
     "output_type": "stream",
     "text": [
      "[[390   1]\n",
      " [  6   3]]\n",
      "AUC_logistic:0.665\n"
     ]
    }
   ],
   "source": [
    "#10.For each method, print the confusion matrix, the accuracy score and the AUC using all observations. Compare these metrics and comment.\n",
    "#For Logistic regression\n",
    "from sklearn.metrics import confusion_matrix\n",
    "y_pred_lr = lr.predict(X5)\n",
    "print(confusion_matrix(y, y_pred_lr))\n",
    "\n",
    "from sklearn.metrics import roc_auc_score\n",
    "log_AUC_LR = roc_auc_score(y, y_pred_lr)\n",
    "print('AUC_logistic:%.3f'% log_AUC_LR)"
   ]
  },
  {
   "cell_type": "code",
   "execution_count": 46,
   "metadata": {},
   "outputs": [
    {
     "name": "stdout",
     "output_type": "stream",
     "text": [
      "[[383   8]\n",
      " [  4   5]]\n",
      "AUC_LDA:0.768\n"
     ]
    }
   ],
   "source": [
    "#For Linear discriminant \n",
    "y_pred_lda = lda.predict(X5)\n",
    "print(confusion_matrix(y, y_pred_lda))\n",
    "log_AUC_LDA = roc_auc_score(y, y_pred_lda)\n",
    "print('AUC_LDA:%.3f'% log_AUC_LDA)"
   ]
  },
  {
   "cell_type": "code",
   "execution_count": 47,
   "metadata": {},
   "outputs": [
    {
     "name": "stdout",
     "output_type": "stream",
     "text": [
      "[[390   1]\n",
      " [  2   7]]\n",
      "AUC_QDA:0.888\n"
     ]
    }
   ],
   "source": [
    "#For Quadratic discriminant\n",
    "y_pred_qda = qda.predict(X5)\n",
    "print(confusion_matrix(y, y_pred_qda))\n",
    "log_AUC_QDA = roc_auc_score(y, y_pred_qda)\n",
    "print('AUC_QDA:%.3f'% log_AUC_QDA)"
   ]
  },
  {
   "cell_type": "markdown",
   "metadata": {},
   "source": [
    "Compring the confusion matrix and AUC value of Logistic regression and LDA and QDA, we can say that the accuracy of the QDA is better than the rest of the 2."
   ]
  },
  {
   "cell_type": "code",
   "execution_count": 48,
   "metadata": {},
   "outputs": [
    {
     "data": {
      "image/png": "[encoded data removed]",
      "text/plain": [
       "<Figure size 432x288 with 1 Axes>"
      ]
     },
     "metadata": {
      "needs_background": "light"
     },
     "output_type": "display_data"
    }
   ],
   "source": [
    "#11.Plot the ROC Curve of the three methods on the same figure. Comment.\n",
    "#logistic Regression\n",
    "from sklearn.metrics import roc_curve\n",
    "log_fpr1, log_tpr1, log_thresholds1 = roc_curve(y, y_pred_lr)\n",
    "log_fpr2, log_tpr2, log_thresholds2 = roc_curve(y, y_pred_lda)\n",
    "log_fpr3, log_tpr3, log_thresholds3 = roc_curve(y, y_pred_qda)\n",
    "plt.plot(log_fpr1, log_tpr1,'r-',label = 'LOG AUC LR: %.3f'%log_AUC_LR)\n",
    "plt.plot(log_fpr2, log_tpr2,'b-',label = 'LOG AUC LDA: %.3f'%log_AUC_LDA)\n",
    "plt.plot(log_fpr3, log_tpr3,'y-',label = 'LOG AUC QDA: %.3f'%log_AUC_QDA)\n",
    "plt.plot([0,1],[0,1],'k-',label='random')\n",
    "plt.plot([0,0,1,1],[0,1,1,1],'g-',label='perfect')\n",
    "plt.legend()\n",
    "plt.xlabel('False Positive Rate')\n",
    "plt.ylabel('True Positive Rate');"
   ]
  },
  {
   "cell_type": "markdown",
   "metadata": {},
   "source": [
    "## Question 3 <span style=\"color:red\">(30 points)</span>\n",
    "\n",
    "1. From the dataset `Credit.csv`, extract the variable `Student` and save it as `Student`. \n",
    "2. Save the number of observations in `Student` as `population_size`.\n",
    "3. Factorize `Student` and compute the proportion of \"students\" and save it as `true_p`. \n",
    "\n",
    "Let us consider the following simple logistic regression model\n",
    "\n",
    "$$ \\mathrm{Pr}(\\mathrm{Student = Yes}) = \\frac{e^{\\beta}}{1 + e^{\\beta}}. $$\n",
    "\n",
    "Here, we do not consider any predictor. The objective is to estimate $\\beta$ by manipulating the likelihood of the model.\n",
    "\n",
    "4. Define a variable `sample_size` $=100$. Now, sample `sample_size` number of observations from `Student` and call it `sample`.\n",
    "5. Define a function called `likelihood` which takes one argument `beta` and computes the likelihood of `beta` based on the `sample`.  \n",
    "6. Randomly generate $50$ numbers from the **continuous uniform** distribution $U[-5;5]$. Save these numbers as `beta_candidate`.\n",
    "7. Using the `likelihood` function defined in Step 5, compute the likelihood of `beta_candidate` and save it as `likelihood_candidate`. Plot the `likelihood_candidate` versus `beta_candidate`.\n",
    "8. Based on the plot, which value of `beta_candidate` would you choose as the estimate of $\\beta$ ? Explain why.\n",
    "9. Based on the chosen `beta_candidate`, estimate the `true_p` (or $\\mathrm{Pr}(\\mathrm{Student = Yes})$ )."
   ]
  },
  {
   "cell_type": "code",
   "execution_count": 49,
   "metadata": {},
   "outputs": [
    {
     "data": {
      "text/html": [
       "<div>\n",
       "<style scoped>\n",
       "    .dataframe tbody tr th:only-of-type {\n",
       "        vertical-align: middle;\n",
       "    }\n",
       "\n",
       "    .dataframe tbody tr th {\n",
       "        vertical-align: top;\n",
       "    }\n",
       "\n",
       "    .dataframe thead th {\n",
       "        text-align: right;\n",
       "    }\n",
       "</style>\n",
       "<table border=\"1\" class=\"dataframe\">\n",
       "  <thead>\n",
       "    <tr style=\"text-align: right;\">\n",
       "      <th></th>\n",
       "      <th>Unnamed: 0</th>\n",
       "      <th>Income</th>\n",
       "      <th>Limit</th>\n",
       "      <th>Rating</th>\n",
       "      <th>Cards</th>\n",
       "      <th>Age</th>\n",
       "      <th>Education</th>\n",
       "      <th>Gender</th>\n",
       "      <th>Student</th>\n",
       "      <th>Married</th>\n",
       "      <th>Ethnicity</th>\n",
       "      <th>Balance</th>\n",
       "    </tr>\n",
       "  </thead>\n",
       "  <tbody>\n",
       "    <tr>\n",
       "      <th>0</th>\n",
       "      <td>1</td>\n",
       "      <td>14.891</td>\n",
       "      <td>3606</td>\n",
       "      <td>283</td>\n",
       "      <td>2</td>\n",
       "      <td>34</td>\n",
       "      <td>11</td>\n",
       "      <td>Male</td>\n",
       "      <td>No</td>\n",
       "      <td>Yes</td>\n",
       "      <td>Caucasian</td>\n",
       "      <td>333</td>\n",
       "    </tr>\n",
       "    <tr>\n",
       "      <th>1</th>\n",
       "      <td>2</td>\n",
       "      <td>106.025</td>\n",
       "      <td>6645</td>\n",
       "      <td>483</td>\n",
       "      <td>3</td>\n",
       "      <td>82</td>\n",
       "      <td>15</td>\n",
       "      <td>Female</td>\n",
       "      <td>Yes</td>\n",
       "      <td>Yes</td>\n",
       "      <td>Asian</td>\n",
       "      <td>903</td>\n",
       "    </tr>\n",
       "    <tr>\n",
       "      <th>2</th>\n",
       "      <td>3</td>\n",
       "      <td>104.593</td>\n",
       "      <td>7075</td>\n",
       "      <td>514</td>\n",
       "      <td>4</td>\n",
       "      <td>71</td>\n",
       "      <td>11</td>\n",
       "      <td>Male</td>\n",
       "      <td>No</td>\n",
       "      <td>No</td>\n",
       "      <td>Asian</td>\n",
       "      <td>580</td>\n",
       "    </tr>\n",
       "    <tr>\n",
       "      <th>3</th>\n",
       "      <td>4</td>\n",
       "      <td>148.924</td>\n",
       "      <td>9504</td>\n",
       "      <td>681</td>\n",
       "      <td>3</td>\n",
       "      <td>36</td>\n",
       "      <td>11</td>\n",
       "      <td>Female</td>\n",
       "      <td>No</td>\n",
       "      <td>No</td>\n",
       "      <td>Asian</td>\n",
       "      <td>964</td>\n",
       "    </tr>\n",
       "    <tr>\n",
       "      <th>4</th>\n",
       "      <td>5</td>\n",
       "      <td>55.882</td>\n",
       "      <td>4897</td>\n",
       "      <td>357</td>\n",
       "      <td>2</td>\n",
       "      <td>68</td>\n",
       "      <td>16</td>\n",
       "      <td>Male</td>\n",
       "      <td>No</td>\n",
       "      <td>Yes</td>\n",
       "      <td>Caucasian</td>\n",
       "      <td>331</td>\n",
       "    </tr>\n",
       "  </tbody>\n",
       "</table>\n",
       "</div>"
      ],
      "text/plain": [
       "   Unnamed: 0   Income  Limit  Rating  Cards  Age  Education  Gender Student  \\\n",
       "0           1   14.891   3606     283      2   34         11    Male      No   \n",
       "1           2  106.025   6645     483      3   82         15  Female     Yes   \n",
       "2           3  104.593   7075     514      4   71         11    Male      No   \n",
       "3           4  148.924   9504     681      3   36         11  Female      No   \n",
       "4           5   55.882   4897     357      2   68         16    Male      No   \n",
       "\n",
       "  Married  Ethnicity  Balance  \n",
       "0     Yes  Caucasian      333  \n",
       "1     Yes      Asian      903  \n",
       "2      No      Asian      580  \n",
       "3      No      Asian      964  \n",
       "4     Yes  Caucasian      331  "
      ]
     },
     "execution_count": 49,
     "metadata": {},
     "output_type": "execute_result"
    }
   ],
   "source": [
    "#1.Read dataset Credit.csv\n",
    "path='data/'\n",
    "filename = path+'Credit.csv'\n",
    "Credit_data = pd.read_csv(filename)\n",
    "Credit_data.head()"
   ]
  },
  {
   "cell_type": "code",
   "execution_count": 50,
   "metadata": {},
   "outputs": [
    {
     "data": {
      "text/html": [
       "<div>\n",
       "<style scoped>\n",
       "    .dataframe tbody tr th:only-of-type {\n",
       "        vertical-align: middle;\n",
       "    }\n",
       "\n",
       "    .dataframe tbody tr th {\n",
       "        vertical-align: top;\n",
       "    }\n",
       "\n",
       "    .dataframe thead th {\n",
       "        text-align: right;\n",
       "    }\n",
       "</style>\n",
       "<table border=\"1\" class=\"dataframe\">\n",
       "  <thead>\n",
       "    <tr style=\"text-align: right;\">\n",
       "      <th></th>\n",
       "      <th>Student</th>\n",
       "    </tr>\n",
       "  </thead>\n",
       "  <tbody>\n",
       "    <tr>\n",
       "      <th>0</th>\n",
       "      <td>No</td>\n",
       "    </tr>\n",
       "    <tr>\n",
       "      <th>1</th>\n",
       "      <td>Yes</td>\n",
       "    </tr>\n",
       "    <tr>\n",
       "      <th>2</th>\n",
       "      <td>No</td>\n",
       "    </tr>\n",
       "    <tr>\n",
       "      <th>3</th>\n",
       "      <td>No</td>\n",
       "    </tr>\n",
       "    <tr>\n",
       "      <th>4</th>\n",
       "      <td>No</td>\n",
       "    </tr>\n",
       "  </tbody>\n",
       "</table>\n",
       "</div>"
      ],
      "text/plain": [
       "  Student\n",
       "0      No\n",
       "1     Yes\n",
       "2      No\n",
       "3      No\n",
       "4      No"
      ]
     },
     "execution_count": 50,
     "metadata": {},
     "output_type": "execute_result"
    }
   ],
   "source": [
    "#1.From the dataset Credit.csv, extract the variable Student and save it as Student\n",
    "Student = Credit_data[['Student']]\n",
    "Student.head()"
   ]
  },
  {
   "cell_type": "code",
   "execution_count": 51,
   "metadata": {},
   "outputs": [
    {
     "name": "stdout",
     "output_type": "stream",
     "text": [
      "400\n"
     ]
    }
   ],
   "source": [
    "#2.Save the number of observations in Student as population_size.\n",
    "population_size = Student.size\n",
    "print(population_size)"
   ]
  },
  {
   "cell_type": "code",
   "execution_count": 52,
   "metadata": {},
   "outputs": [
    {
     "name": "stdout",
     "output_type": "stream",
     "text": [
      "0    0.9\n",
      "1    0.1\n",
      "Name: Default, dtype: float64\n"
     ]
    },
    {
     "name": "stderr",
     "output_type": "stream",
     "text": [
      "C:\\Users\\mana\\Anaconda3\\lib\\site-packages\\ipykernel_launcher.py:2: SettingWithCopyWarning: \n",
      "A value is trying to be set on a copy of a slice from a DataFrame.\n",
      "Try using .loc[row_indexer,col_indexer] = value instead\n",
      "\n",
      "See the caveats in the documentation: http://pandas.pydata.org/pandas-docs/stable/indexing.html#indexing-view-versus-copy\n",
      "  \n",
      "C:\\Users\\mana\\Anaconda3\\lib\\site-packages\\ipykernel_launcher.py:4: SettingWithCopyWarning: \n",
      "A value is trying to be set on a copy of a slice from a DataFrame.\n",
      "Try using .loc[row_indexer,col_indexer] = value instead\n",
      "\n",
      "See the caveats in the documentation: http://pandas.pydata.org/pandas-docs/stable/indexing.html#indexing-view-versus-copy\n",
      "  after removing the cwd from sys.path.\n"
     ]
    },
    {
     "data": {
      "text/html": [
       "<div>\n",
       "<style scoped>\n",
       "    .dataframe tbody tr th:only-of-type {\n",
       "        vertical-align: middle;\n",
       "    }\n",
       "\n",
       "    .dataframe tbody tr th {\n",
       "        vertical-align: top;\n",
       "    }\n",
       "\n",
       "    .dataframe thead th {\n",
       "        text-align: right;\n",
       "    }\n",
       "</style>\n",
       "<table border=\"1\" class=\"dataframe\">\n",
       "  <thead>\n",
       "    <tr style=\"text-align: right;\">\n",
       "      <th></th>\n",
       "      <th>Student</th>\n",
       "      <th>Default</th>\n",
       "      <th>true_p</th>\n",
       "    </tr>\n",
       "  </thead>\n",
       "  <tbody>\n",
       "    <tr>\n",
       "      <th>0</th>\n",
       "      <td>No</td>\n",
       "      <td>0</td>\n",
       "      <td>0.9</td>\n",
       "    </tr>\n",
       "    <tr>\n",
       "      <th>1</th>\n",
       "      <td>Yes</td>\n",
       "      <td>1</td>\n",
       "      <td>0.1</td>\n",
       "    </tr>\n",
       "    <tr>\n",
       "      <th>2</th>\n",
       "      <td>No</td>\n",
       "      <td>0</td>\n",
       "      <td>0.9</td>\n",
       "    </tr>\n",
       "    <tr>\n",
       "      <th>3</th>\n",
       "      <td>No</td>\n",
       "      <td>0</td>\n",
       "      <td>0.9</td>\n",
       "    </tr>\n",
       "    <tr>\n",
       "      <th>4</th>\n",
       "      <td>No</td>\n",
       "      <td>0</td>\n",
       "      <td>0.9</td>\n",
       "    </tr>\n",
       "  </tbody>\n",
       "</table>\n",
       "</div>"
      ],
      "text/plain": [
       "  Student  Default  true_p\n",
       "0      No        0     0.9\n",
       "1     Yes        1     0.1\n",
       "2      No        0     0.9\n",
       "3      No        0     0.9\n",
       "4      No        0     0.9"
      ]
     },
     "execution_count": 52,
     "metadata": {},
     "output_type": "execute_result"
    }
   ],
   "source": [
    "#3.Factorize Student and compute the proportion of \"students\" and save it as true_p\n",
    "Student['Default'] = Student.Student.factorize()[0]\n",
    "print(Student['Default'].value_counts()/population_size)\n",
    "Student['true_p'] = np.where(Student['Default']== 0, 0.9, 0.1)\n",
    "Student.head()"
   ]
  },
  {
   "cell_type": "code",
   "execution_count": 53,
   "metadata": {
    "scrolled": true
   },
   "outputs": [],
   "source": [
    "#4.Define a variable sample_size  =100 . Now, sample sample_size number of observations from Student and call it sample.\n",
    "np.random.seed(123)\n",
    "sample_size  =100\n",
    "sample = np.random.choice(a= Student['true_p'], size = sample_size)"
   ]
  },
  {
   "cell_type": "code",
   "execution_count": 54,
   "metadata": {},
   "outputs": [],
   "source": [
    "#5.Define a function called likelihood which takes one argument beta and computes the likelihood of beta based on the sample.\n",
    "\n",
    "def likelihood(beta):\n",
    "    result = np.array([])\n",
    "    for i in sample:\n",
    "        value =  math.exp(beta)/(1+math.exp(beta))\n",
    "        value1 = value ** i\n",
    "        value2 = (1-value1) ** (1-i)\n",
    "        result = np.append(result,value1 * value2)\n",
    "    #print(result)  \n",
    "    final_result = np.prod(result) \n",
    "    #print(final_result)\n",
    "    return final_result\n",
    "    "
   ]
  },
  {
   "cell_type": "code",
   "execution_count": 55,
   "metadata": {},
   "outputs": [
    {
     "name": "stdout",
     "output_type": "stream",
     "text": [
      "[ 1.74689051  3.42342438 -4.16805012  2.63682841 -2.56333625 -3.05777039\n",
      "  0.72456957 -4.04287483  3.85326826  1.27248972  2.23416358 -4.83870793\n",
      "  0.94431879  0.56785192 -3.41040356 -3.46929485  1.95529529 -1.81233574\n",
      "  1.91970296  0.5438325  -1.11049426  4.2513249   3.41669997 -1.42602433\n",
      " -4.56408536 -1.95231927 -1.01814318  2.0495883   4.95358482 -1.44085134\n",
      "  2.62547814  0.93176917  1.91701799 -3.48872548 -1.01123707 -2.59144102\n",
      " -1.56543986  0.13128154  1.6662455  -3.94091515 -3.69105049 -1.78019394\n",
      "  1.61564337  3.46506225  0.53257345  3.54452488 -1.15162189 -1.83212103\n",
      " -1.45735324 -3.28918171]\n"
     ]
    }
   ],
   "source": [
    "#6.Randomly generate  50  numbers from the continuous uniform distribution  𝑈[−5;5] . Save these numbers as beta_candidate.\n",
    "import scipy.stats  as stats\n",
    "beta_candidate = stats.uniform.rvs(size=50,  # Generate 50 numbers\n",
    "                                 loc = -5,  # From -5 \n",
    "                                 scale= 10) # To 5\n",
    "print(beta_candidate)"
   ]
  },
  {
   "cell_type": "code",
   "execution_count": 56,
   "metadata": {},
   "outputs": [],
   "source": [
    "#7.Using the likelihood function defined in Step 5, compute the likelihood of beta_candidate and save it as likelihood_candidate\n",
    "likelihood_candidate = np.array([])\n",
    "for i in beta_candidate:\n",
    "    likelihood_candidate = np.append(likelihood_candidate,likelihood(i)) "
   ]
  },
  {
   "cell_type": "code",
   "execution_count": 57,
   "metadata": {},
   "outputs": [
    {
     "data": {
      "image/png": "[encoded data removed]",
      "text/plain": [
       "<Figure size 432x288 with 1 Axes>"
      ]
     },
     "metadata": {
      "needs_background": "light"
     },
     "output_type": "display_data"
    }
   ],
   "source": [
    "#8.Plot the likelihood_candidate versus beta_candidate.\n",
    "import matplotlib.pyplot as plt\n",
    "plt.plot(beta_candidate,likelihood_candidate, 'or', mfc='none')\n",
    "plt.ylabel('likelihood_candidate')\n",
    "plt.xlabel('beta_candidate');"
   ]
  },
  {
   "cell_type": "markdown",
   "metadata": {},
   "source": [
    "8.Based on the plot, which value of beta_candidate would you choose as the estimate of  𝛽  ? Explain why.\n",
    "\n",
    "Ans:beta_candidate = "
   ]
  },
  {
   "cell_type": "code",
   "execution_count": 58,
   "metadata": {},
   "outputs": [],
   "source": [
    "#9.Based on the chosen beta_candidate, estimate the true_p (or  Pr(Student=Yes)  )."
   ]
  }
 ],
 "metadata": {
  "kernelspec": {
   "display_name": "Python 3",
   "language": "python",
   "name": "python3"
  },
  "language_info": {
   "codemirror_mode": {
    "name": "ipython",
    "version": 3
   },
   "file_extension": ".py",
   "mimetype": "text/x-python",
   "name": "python",
   "nbconvert_exporter": "python",
   "pygments_lexer": "ipython3",
   "version": "3.6.9"
  }
 },
 "nbformat": 4,
 "nbformat_minor": 2
}
