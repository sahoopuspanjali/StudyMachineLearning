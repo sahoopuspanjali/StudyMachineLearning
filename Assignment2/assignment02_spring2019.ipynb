{
 "cells": [
  {
   "cell_type": "markdown",
   "metadata": {},
   "source": [
    "# Assignment 2\n",
    "### General Instructions\n",
    "  + The Python standard library is not enough to do solve these questions. You will need to import appropriate libraries for each task. Generally, you might import and use any library you wish unless otherwise stated. \n",
    "  + Where detail instructions like variable or function names, required libraries, and etc are not given by the question, feel free to do it the way you would like to.\n",
    "  + After each question, add the needed number of new cells and place your answers inside the cells. \n",
    "  + When you are required to explain or answer in text format open a Markdown cell and enter your answer in it.\n",
    "  + Do not remove or modify the original cells provided by the instructor.\n",
    "  + Comment your code whenever needed using # sign at the beginning of the row.\n",
    "  + Do not hesitate to communicate your questions to the TAs or instructors. Good luck! "
   ]
  },
  {
   "cell_type": "code",
   "execution_count": 16,
   "metadata": {},
   "outputs": [],
   "source": [
    "# The following piece of code gives the opportunity to show multiple outputs\n",
    "# in one cell:\n",
    "from IPython.core.interactiveshell import InteractiveShell\n",
    "InteractiveShell.ast_node_interactivity = \"all\"\n",
    "\n",
    "\n",
    "# Colorful outputs\n",
    "class bcolors:\n",
    "    RED       = '\\033[91m'\n",
    "    OKBLUE    = '\\033[94m'\n",
    "    BOLD      = '\\033[1m'\n",
    "    UNDERLINE = '\\033[4m'\n",
    "    ENDC      = '\\033[0m'"
   ]
  },
  {
   "cell_type": "markdown",
   "metadata": {},
   "source": [
    "## Question 1 <span style=\"color:red\">(40 points)</span>\n",
    "\n",
    "1.  Download `Income2.csv` from http://www-bcf.usc.edu/~gareth/ISL/Income2.csv\n",
    "2.  Load the data into this Jupyter notebook. \n",
    "3.  Describe the data using descriptive statistics such as measures of central tendancy, dispersion or association.\n",
    "4.  Explore the data by vizualing it through various figures. Clearly explain or interpret each figure, justify the appropriateness of the tool used for visualization, highlight the information it provides, and, finally, explain how this information affect your further analysis.\n",
    "5.\tModel `Income` as a linear function of `Years of Education`. What are your independent and dependent variables? What type of model did you use? Why?\n",
    "6.  Scatterplot the dependent and independent variables used in the model versus each other. Based on the scatterplot, do you think a linear model is an adequate model for the data in hand? Discuss your answer. \n",
    "7.  Print the slope of the fitted line out and provide a $95\\%$ confidence interval for the estimate slope.\n",
    "8.  Add the fitted line over the scatterplot.\n",
    "9.  Using the **discrete uniform** distribution, randomly generate $10$ numbers between the $25$ and $75$ percentiles of the variable `Years of Education` in the original data. If these numbers represent years of education for $10$ employees, then predict each person's `Income` due to your model.\n",
    "10. Now, model  `Income` as a linear function of both `Years of Education` and `Seniority`. What type of model did you use? How many parameters (coefficients) does this model have? \n",
    "11. Print out the estimated coefficients after the model has been fitted.\n",
    "12. How much would be the `Income` of a new individual with $18$ years of education and $60$ years of seniority?\n",
    "13.\tArgue which of `Years of Education` or `Seniority` is a stronger predictor of `Income`? Justify your comparison. (**Hint**: take into consideration that these variables are in different units)\n"
   ]
  },
  {
   "cell_type": "code",
   "execution_count": null,
   "metadata": {},
   "outputs": [],
   "source": [
    "import pandas as pd\n",
    "import numpy as np\n",
    "path='data/'\n",
    "filename = path+'Default.xlsx'\n",
    "default_data = pd.read_excel(filename)"
   ]
  },
  {
   "cell_type": "markdown",
   "metadata": {},
   "source": [
    "## Question 2 <span style=\"color:red\">(30 points)</span>\n",
    "\n",
    "1.  Download `Credit.csv` from http://www-bcf.usc.edu/~gareth/ISL/Credit.csv\n",
    "2.  Load the data into this Jupyter notebook. \n",
    "3.  Describe the data using descriptive statistics such as measures of central tendancy, dispersion or association.\n",
    "4.  Explore the data by vizualing it through various figures. Clearly explain or interpret each figure, justify the appropriateness of the tool used for visualization, highlight the information it provides, and, finally, explain how this information affect your further analysis.\n",
    "5.  Which variables of this dataset are **qualitative** and which ones are **quantitative**? Create an attribute (also called design) matrix  $\\mathbf{X}$ that includes only the following attributes:`Income`, `Limit`, `Rating`, `Cards`, `Age`, and `Education`.\n",
    "6.  Create a binary variable `Balance_1500` which equals $1$ for each observation if `Balance` $> 1500$ for that observation and equals $0$ otherwise.\n",
    "7.  Model `Balance_1500` by the explanatory variables mentionned in Step 5 using the following models: \n",
    "    + logistic regression, \n",
    "    + linear discriminant, and \n",
    "    + quadratic discriminant.\n",
    "8. Interpret the coefficients of `Income`, `Age`, and `Education` for the logistic regression model.    \n",
    "9. Find the probability of (`Balance` $> 1500$), for the following values, using all three aforementionned methods:\n",
    "\n",
    "|    Income    |    Limit     |     Rating     |    Cards     |      Age        |   Education   | \n",
    "|--------------|--------------|----------------|--------------|-----------------|---------------|\n",
    "|      63      |    8100      |     600        |      4       |       30        |      13       |\n",
    "|     186      |    13414     |     950        |      2       |       41        |      13       |\n",
    "\n",
    "    Compare the probabilities and comment.\n",
    "    \n",
    "10. For each method, print the confusion matrix, the accuracy score and the AUC using all observations. Compare these metrics and comment. \n",
    "11. Plot the ROC Curve of the three methods on the same figure. Comment."
   ]
  },
  {
   "cell_type": "code",
   "execution_count": null,
   "metadata": {},
   "outputs": [],
   "source": []
  },
  {
   "cell_type": "markdown",
   "metadata": {},
   "source": [
    "## Question 3 <span style=\"color:red\">(30 points)</span>\n",
    "\n",
    "1. From the dataset `Credit.csv`, extract the variable `Student` and save it as `Student`. \n",
    "2. Save the number of observations in `Student` as `population_size`.\n",
    "3. Factorize `Student` and compute the proportion of \"students\" and save it as `true_p`. \n",
    "\n",
    "Let us consider the following simple logistic regression model\n",
    "\n",
    "$$ \\mathrm{Pr}(\\mathrm{Student = Yes}) = \\frac{e^{\\beta}}{1 + e^{\\beta}}. $$\n",
    "\n",
    "Here, we do not consider any predictor. The objective is to estimate $\\beta$ by manipulating the likelihood of the model.\n",
    "\n",
    "4. Define a variable `sample_size` $=100$. Now, sample `sample_size` number of observations from `Student` and call it `sample`.\n",
    "5. Define a function called `likelihood` which takes one argument `beta` and computes the likelihood of `beta` based on the `sample`.  \n",
    "6. Randomly generate $50$ numbers from the **continuous uniform** distribution $U[-5;5]$. Save these numbers as `beta_candidate`.\n",
    "7. Using the `likelihood` function defined in Step 5, compute the likelihood of `beta_candidate` and save it as `likelihood_candidate`. Plot the `likelihood_candidate` versus `beta_candidate`.\n",
    "8. Based on the plot, which value of `beta_candidate` would you choose as the estimate of $\\beta$ ? Explain why.\n",
    "9. Based on the chosen `beta_candidate`, estimate the `true_p` (or $\\mathrm{Pr}(\\mathrm{Student = Yes})$ )."
   ]
  }
 ],
 "metadata": {
  "kernelspec": {
   "display_name": "Python 3",
   "language": "python",
   "name": "python3"
  },
  "language_info": {
   "codemirror_mode": {
    "name": "ipython",
    "version": 3
   },
   "file_extension": ".py",
   "mimetype": "text/x-python",
   "name": "python",
   "nbconvert_exporter": "python",
   "pygments_lexer": "ipython3",
   "version": "3.7.1"
  }
 },
 "nbformat": 4,
 "nbformat_minor": 2
}
