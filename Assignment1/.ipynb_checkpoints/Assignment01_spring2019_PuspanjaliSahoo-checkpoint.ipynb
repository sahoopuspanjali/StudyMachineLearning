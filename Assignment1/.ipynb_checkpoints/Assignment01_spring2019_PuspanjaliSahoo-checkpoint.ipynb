{
 "cells": [
  {
   "cell_type": "markdown",
   "metadata": {},
   "source": [
    "# Assignment 1\n",
    "### General Instructions\n",
    "  + The Python standard library is not enough to solve these questions. You will need to import appropriate libraries for each task. Generally, you might import and use any library you wish unless otherwise stated. \n",
    "  + Where detail instructions like variable or function names, required libraries, and etc are not given by the question, feel free to do it the way you would like to.\n",
    "  + After each question, add the needed number of new cells and place your answers inside the cells. \n",
    "  + When you are required to explain or answer in text format open a Markdown cell and enter your answer in it.\n",
    "  + Do not remove or modify the original cells provided by the instructor.\n",
    "  + In the following cell you are provided with some extra possibilities, like colors RED, OKBLUE, or text styles like BOLD or UNDERLINE that you can use to produce text in the output of your codes. For example, to output text in red you can type the following code: \n",
    "  ```python\n",
    "     print(bcolors.RED + \"your text\" + bcolors.ENDC)\n",
    "  ```\n",
    "  + Comment your code whenever needed using # sign at the beginning of the row.\n",
    "  + For the last question you may need to do some online research since not all the details needed are provided in the question. This especially helps you develop some search skills for coding in Python which is inevitable due to the inconsistent syntax of Python.\n",
    "  + Do not hesitate to communicate your questions to the TA's or instructors. Good luck!  \n",
    "  "
   ]
  },
  {
   "cell_type": "code",
   "execution_count": 1,
   "metadata": {},
   "outputs": [],
   "source": [
    "# The following piece of code gives the opportunity to show multiple outputs\n",
    "# in one cell:\n",
    "from IPython.core.interactiveshell import InteractiveShell\n",
    "InteractiveShell.ast_node_interactivity = \"all\"\n",
    "\n",
    "# Colorful outputs\n",
    "class bcolors:\n",
    "    RED       = '\\033[91m'\n",
    "    OKBLUE    = '\\033[94m'\n",
    "    BOLD      = '\\033[1m'\n",
    "    UNDERLINE = '\\033[4m'\n",
    "    ENDC      = '\\033[0m'"
   ]
  },
  {
   "cell_type": "markdown",
   "metadata": {},
   "source": [
    "## Question 1\n",
    "Write a piece of program that takes as input $2$ lists called `list1` and `list2`. `list1` contains $5$ first names (strings) and `list2` has $3$ first names. `list1` and `list2` may or may not have common names. Then, it returns a third list called `set_difference` which contains those names in `list1` that are not in `list2`.\n",
    "\n",
    "**Example**\n",
    "\n",
    "list1 = $\\{\\mbox{John, Michael, Vanessa, Ahmed, Tiffany}\\}$ <br>\n",
    "list2 = $\\{\\mbox{Cyrus, Vanessa}\\}$ <br>\n",
    "Expected Output : $\\{\\mbox{John, Michael, Ahmed, Tiffany}\\}$\n",
    "\n"
   ]
  },
  {
   "cell_type": "code",
   "execution_count": 2,
   "metadata": {},
   "outputs": [
    {
     "name": "stdout",
     "output_type": "stream",
     "text": [
      "['Tiffany', 'John', 'Ahmed', 'Michael']\n",
      "['John', 'Michael', 'Ahmed', 'Tiffany']\n"
     ]
    }
   ],
   "source": [
    "list1 = ['John', 'Michael', 'Vanessa', 'Ahmed', 'Tiffany']\n",
    "list2 = ['Cyrus','Vanessa']\n",
    "\n",
    "#using set\n",
    "set_difference = list(set(list1) - set(list2))\n",
    "print(set_difference)\n",
    "\n",
    "# iterating throgh elements \n",
    "set_difference1 = [i for i in list1 + list2 if i in list1 and i not in list2] \n",
    "print(set_difference1)\n",
    "\n",
    "#using pandas or numpy\n"
   ]
  },
  {
   "cell_type": "markdown",
   "metadata": {},
   "source": [
    "## Question 2\n",
    "Write a Python **function** that takes two **positive integers** and returns their **greatest common divisor**. In case you pass a negative integer to the function it must return the following string: \n",
    "     <span style=\"color:red\"> \"This function takes only positive integers!\" </span>"
   ]
  },
  {
   "cell_type": "code",
   "execution_count": 3,
   "metadata": {},
   "outputs": [
    {
     "name": "stdout",
     "output_type": "stream",
     "text": [
      "Enter first number: 45\n",
      "Enter 2nd number: 21\n",
      "Inputs are positive integers\n",
      "The  greatest common divisor between 45 and 21 is: 3\n"
     ]
    }
   ],
   "source": [
    "def function_gcd(x, y):\n",
    "    if x > 0 and y > 0:\n",
    "        print(\"Inputs are positive integers\")\n",
    "        while(y): \n",
    "           x, y = y, x % y \n",
    "        return x \n",
    "    else:\n",
    "        print(\"This function takes only positive integers!\")\n",
    "\n",
    "ip1 = int(input(\"Enter first number: \"))\n",
    "ip2 = int(input(\"Enter 2nd number: \"))\n",
    "print(\"The  greatest common divisor between \" + str(ip1) + \" and \" + str(ip2) + ' is: ' + str(function_gcd(ip1, ip2)))\n"
   ]
  },
  {
   "cell_type": "markdown",
   "metadata": {},
   "source": [
    "## Question 3\n",
    "Write a function that prints all the prime numbers in the interval $[0,p]$, where $p$ is a parameter to be         passed to the function. "
   ]
  },
  {
   "cell_type": "code",
   "execution_count": 4,
   "metadata": {},
   "outputs": [
    {
     "name": "stdout",
     "output_type": "stream",
     "text": [
      "Enter upper range: 12\n",
      "2\n",
      "3\n",
      "5\n",
      "7\n",
      "11\n"
     ]
    }
   ],
   "source": [
    "#prime numbers in the interval  [0,𝑝] ,\n",
    "def function_prime(p):\n",
    "    for num in range(0,p + 1):  \n",
    "        if num > 1:  \n",
    "            for i in range(2,num):  \n",
    "                if (num % i) == 0:  \n",
    "                    break  \n",
    "            else:  \n",
    "                print(num)   \n",
    "\n",
    "p = int(input(\"Enter upper range: \"))     \n",
    "function_prime(p)\n"
   ]
  },
  {
   "cell_type": "markdown",
   "metadata": {},
   "source": [
    "## Question 4\n",
    "  1. Set seed by the initial value $1231$ and define the following variables (Python objects) with the shown assigned values:\n",
    "    + `size` $\\longleftarrow 1000$,\n",
    "    + `n` $\\longleftarrow 700$,\n",
    "    + `p` $\\longleftarrow 0.3$\n",
    "  2. Randomly generate `size` number of itegers in $(0,200)$ and save them as `col1`.\n",
    "  3. Randomly generate `size` number of values according to $\\mbox{Unif}[0,1]$ and call it `col2`.\n",
    "  4. Randomly generate `2*size` numbers from $\\mbox{Binom}($ `n`,`p` $)$ and randomly select `size` number of them\n",
    "     and save as `col3`.\n",
    "  5. Define the following functions \n",
    "    + $\\texttt{funct1}(x)= \\ln x$\n",
    "    + $\\texttt{funct2}(x)= \\frac{10 \\exp(x)}{1+\\exp(x)}$\n",
    "    + $\\texttt{funct3}(x)= \\frac{350}{100\\sqrt{2\\pi}}.\\exp{\\left(-\\frac{x^2}{20000}\\right)}$\n",
    "  6. Define \n",
    "    + `col4`$=\\texttt{funct1}($ `col1` $)$,\n",
    "    + `col5`$=\\texttt{funct2}($ `col2` $)$, and \n",
    "    + `col6`$=\\texttt{funct3}($ `col3` $)$;\n",
    "  7. Randomly generate `size` number of genders from the set $\\{\\mbox{Female, Male}\\}$ and save them as `col7`.\n",
    "  8. Construct a **data frame** with $7$ columns `col1` to `col7` and call it `mydata`.\n",
    "  8. Describe the dataset using the descriptive statistics discussed in the class.\n",
    "  9. Use the appropriate visualisation tool to visualize each variable in the dataset.\n",
    "  10. Using **loops** scatterplot every pair of columns versus each other if appropriate.\n",
    "  "
   ]
  },
  {
   "cell_type": "code",
   "execution_count": 5,
   "metadata": {},
   "outputs": [],
   "source": [
    "import random\n",
    "import numpy as np\n",
    "import pandas as pd\n",
    "import math\n",
    "import seaborn as sns; sns.set(style=\"ticks\", color_codes=True)"
   ]
  },
  {
   "cell_type": "code",
   "execution_count": 6,
   "metadata": {},
   "outputs": [],
   "source": [
    "#1.Set seed by the initial value  1231  and define the following variables (Python objects) with the shown assigned values:\n",
    "# size  ⟵1000 ,n  ⟵700 ,p  ⟵0.3\n",
    "\n",
    "random.seed(1234)\n",
    "size = 1000\n",
    "n = 700\n",
    "p = 0.3"
   ]
  },
  {
   "cell_type": "code",
   "execution_count": 7,
   "metadata": {},
   "outputs": [],
   "source": [
    "#2.Randomly generate size number of integers in  (0,200)  and save them as col1\n",
    "col1 = [random.randint(1,200) for x in range(size)] #from (1,200) instead as 0 will give undefined answer\n",
    "#print(col1)"
   ]
  },
  {
   "cell_type": "code",
   "execution_count": 8,
   "metadata": {},
   "outputs": [],
   "source": [
    "#3.Randomly generate size number of values according to  Unif[0,1]  and call it col2.\n",
    "col2 = [random.uniform(0,1) for x in range(size)]\n",
    "#print(col2)"
   ]
  },
  {
   "cell_type": "code",
   "execution_count": 9,
   "metadata": {},
   "outputs": [],
   "source": [
    "#4.Randomly generate 2*size numbers from  Binom(  n,p  )  and randomly select size number of them and save as col3.\n",
    "col3 = [random.choice(np.random.binomial(n, p, 2*size)) for x in range(size)]\n",
    "#np.random.binomial"
   ]
  },
  {
   "cell_type": "code",
   "execution_count": 10,
   "metadata": {},
   "outputs": [],
   "source": [
    "#5.Define the following functions\n",
    "\n",
    "#𝚏𝚞𝚗𝚌𝚝𝟷(𝑥)=ln𝑥 \n",
    "def funct1(list1):\n",
    "    retList = []\n",
    "    for x in list1:\n",
    "        retList.append(math.log(x))\n",
    "    return retList\n",
    "#math.log(0) is error\n",
    "\n",
    "#𝚏𝚞𝚗𝚌𝚝𝟸(𝑥)=10exp(𝑥)1+exp(𝑥) \n",
    "def funct2(list2):\n",
    "    retList = []\n",
    "    for x in list2:\n",
    "        retList.append((10 * math.exp(x)) / (1+math.exp(x)))\n",
    "    return retList\n",
    "\n",
    "#𝚏𝚞𝚗𝚌𝚝𝟹(𝑥)=350/100**2𝜋√.exp(−𝑥220000)\n",
    "def funct3(list3):\n",
    "    retList = []\n",
    "    for x in list3:\n",
    "        retList.append((350/(100*math.sqrt(2*math.pi)))*(math.exp(-(math.pow(x,2)/20000))))\n",
    "    return retList\n"
   ]
  },
  {
   "cell_type": "code",
   "execution_count": 11,
   "metadata": {},
   "outputs": [],
   "source": [
    "#6.Define\n",
    "col4 = funct1(col1)\n",
    "col5 = funct2(col2)\n",
    "col6 = funct3(col3)"
   ]
  },
  {
   "cell_type": "code",
   "execution_count": 12,
   "metadata": {},
   "outputs": [],
   "source": [
    "#7.Randomly generate size number of genders from the set  {Female, Male}  and save them as col7.\n",
    "col7 = [random.choice(['Female', 'Male']) for x in range(size)]"
   ]
  },
  {
   "cell_type": "code",
   "execution_count": 13,
   "metadata": {},
   "outputs": [
    {
     "name": "stdout",
     "output_type": "stream",
     "text": [
      "   col_1     col_2  col_3     col_4     col_5     col_6   col_7\n",
      "0    200  0.423387    221  5.298317  6.042935  0.121453    Male\n",
      "1    113  0.625016    206  4.727388  6.513584  0.167299  Female\n",
      "2     30  0.701010    217  3.401197  6.684116  0.132573  Female\n",
      "3      2  0.655179    193  0.693147  6.581767  0.216833    Male\n",
      "4     24  0.379352    195  3.178054  5.937169  0.208581  Female\n"
     ]
    }
   ],
   "source": [
    "#8.Construct a data frame with  7  columns col1 to col7 and call it mydata.\n",
    "data = {'col_1': col1, 'col_2': col2,'col_3':col3,'col_4':col4,'col_5':col5,'col_6':col6,'col_7':col7}\n",
    "mydata = pd.DataFrame.from_dict(data)\n",
    "print(mydata.head())"
   ]
  },
  {
   "cell_type": "code",
   "execution_count": 14,
   "metadata": {},
   "outputs": [
    {
     "data": {
      "text/html": [
       "<div>\n",
       "<style scoped>\n",
       "    .dataframe tbody tr th:only-of-type {\n",
       "        vertical-align: middle;\n",
       "    }\n",
       "\n",
       "    .dataframe tbody tr th {\n",
       "        vertical-align: top;\n",
       "    }\n",
       "\n",
       "    .dataframe thead th {\n",
       "        text-align: right;\n",
       "    }\n",
       "</style>\n",
       "<table border=\"1\" class=\"dataframe\">\n",
       "  <thead>\n",
       "    <tr style=\"text-align: right;\">\n",
       "      <th></th>\n",
       "      <th>col_1</th>\n",
       "      <th>col_2</th>\n",
       "      <th>col_3</th>\n",
       "      <th>col_4</th>\n",
       "      <th>col_5</th>\n",
       "      <th>col_6</th>\n",
       "    </tr>\n",
       "  </thead>\n",
       "  <tbody>\n",
       "    <tr>\n",
       "      <th>count</th>\n",
       "      <td>1000.000000</td>\n",
       "      <td>1000.000000</td>\n",
       "      <td>1000.00000</td>\n",
       "      <td>1000.000000</td>\n",
       "      <td>1000.000000</td>\n",
       "      <td>1000.000000</td>\n",
       "    </tr>\n",
       "    <tr>\n",
       "      <th>mean</th>\n",
       "      <td>101.988000</td>\n",
       "      <td>0.504844</td>\n",
       "      <td>209.31700</td>\n",
       "      <td>4.338802</td>\n",
       "      <td>6.212889</td>\n",
       "      <td>0.160251</td>\n",
       "    </tr>\n",
       "    <tr>\n",
       "      <th>std</th>\n",
       "      <td>57.368083</td>\n",
       "      <td>0.285791</td>\n",
       "      <td>12.47831</td>\n",
       "      <td>0.935959</td>\n",
       "      <td>0.664946</td>\n",
       "      <td>0.041730</td>\n",
       "    </tr>\n",
       "    <tr>\n",
       "      <th>min</th>\n",
       "      <td>1.000000</td>\n",
       "      <td>0.004128</td>\n",
       "      <td>164.00000</td>\n",
       "      <td>0.000000</td>\n",
       "      <td>5.010319</td>\n",
       "      <td>0.062899</td>\n",
       "    </tr>\n",
       "    <tr>\n",
       "      <th>25%</th>\n",
       "      <td>52.000000</td>\n",
       "      <td>0.261979</td>\n",
       "      <td>200.00000</td>\n",
       "      <td>3.951244</td>\n",
       "      <td>5.651227</td>\n",
       "      <td>0.129720</td>\n",
       "    </tr>\n",
       "    <tr>\n",
       "      <th>50%</th>\n",
       "      <td>104.000000</td>\n",
       "      <td>0.515328</td>\n",
       "      <td>209.00000</td>\n",
       "      <td>4.644391</td>\n",
       "      <td>6.260545</td>\n",
       "      <td>0.157202</td>\n",
       "    </tr>\n",
       "    <tr>\n",
       "      <th>75%</th>\n",
       "      <td>151.000000</td>\n",
       "      <td>0.748347</td>\n",
       "      <td>218.00000</td>\n",
       "      <td>5.017280</td>\n",
       "      <td>6.788184</td>\n",
       "      <td>0.188968</td>\n",
       "    </tr>\n",
       "    <tr>\n",
       "      <th>max</th>\n",
       "      <td>200.000000</td>\n",
       "      <td>0.999477</td>\n",
       "      <td>249.00000</td>\n",
       "      <td>5.298317</td>\n",
       "      <td>7.309558</td>\n",
       "      <td>0.363864</td>\n",
       "    </tr>\n",
       "  </tbody>\n",
       "</table>\n",
       "</div>"
      ],
      "text/plain": [
       "             col_1        col_2       col_3        col_4        col_5  \\\n",
       "count  1000.000000  1000.000000  1000.00000  1000.000000  1000.000000   \n",
       "mean    101.988000     0.504844   209.31700     4.338802     6.212889   \n",
       "std      57.368083     0.285791    12.47831     0.935959     0.664946   \n",
       "min       1.000000     0.004128   164.00000     0.000000     5.010319   \n",
       "25%      52.000000     0.261979   200.00000     3.951244     5.651227   \n",
       "50%     104.000000     0.515328   209.00000     4.644391     6.260545   \n",
       "75%     151.000000     0.748347   218.00000     5.017280     6.788184   \n",
       "max     200.000000     0.999477   249.00000     5.298317     7.309558   \n",
       "\n",
       "             col_6  \n",
       "count  1000.000000  \n",
       "mean      0.160251  \n",
       "std       0.041730  \n",
       "min       0.062899  \n",
       "25%       0.129720  \n",
       "50%       0.157202  \n",
       "75%       0.188968  \n",
       "max       0.363864  "
      ]
     },
     "execution_count": 14,
     "metadata": {},
     "output_type": "execute_result"
    }
   ],
   "source": [
    "mydata.describe()"
   ]
  },
  {
   "cell_type": "markdown",
   "metadata": {},
   "source": [
    "9.Describe the dataset using the descriptive statistics discussed in the class.\n",
    "\n",
    "Ans:\n",
    "There are total 1000 observations with 7 variables in the dataset. outof this col_1 to col_6 are continuous & col_7 is categorical. \n",
    "col_1: the range is in between 1 to 200. The mean value is 101.988 and median is 104. \n",
    "col_2: the range is in between 0.004128 to 0.999477. The mean value is 0.504844 and median is 0.515328.\n",
    "col_3: the range is in between 170 to 251. The mean value is 4.338802 and median is 210.\n",
    "col_4: the range is in between 0 to 5.298317. The mean value is 101.988 and median is 4.644391.\n",
    "col_5: the range is in between 5.010319 to 7.309558. The mean value is 6.212889 and median is 6.260545.\n",
    "col_6: the range is in between 0.059831 to 0.329172. The mean value is 0.157877 and median is 0.153943."
   ]
  },
  {
   "cell_type": "code",
   "execution_count": 15,
   "metadata": {},
   "outputs": [
    {
     "data": {
      "image/png": "[encoded data removed]",
      "text/plain": [
       "<Figure size 432x288 with 1 Axes>"
      ]
     },
     "metadata": {},
     "output_type": "display_data"
    }
   ],
   "source": [
    "#10.Use the appropriate visualisation tool to visualize each variable in the dataset.\n",
    "\n",
    "mydata['col_7'].value_counts().plot(kind='pie');"
   ]
  },
  {
   "cell_type": "code",
   "execution_count": 16,
   "metadata": {},
   "outputs": [],
   "source": [
    "#11.Using loops scatterplot every pair of columns versus each other if appropriate.\n",
    "#g = sns.pairplot(mydata, kind = \"scatter\")"
   ]
  },
  {
   "cell_type": "markdown",
   "metadata": {},
   "source": [
    "## Question 5\n",
    "  1. Assume that $X\\sim N(\\mu,\\sigma^2)$ with $\\mu=55, \\sigma=15$. Randomly generate a set of $1000,000$ values for $X$              according to the given distribution and call it set $D$.\n",
    "  2. Pretend that $D$ is your whole population. Choose a sample of $1000$ values from $D$. \n",
    "  3. Plot an approximate density distribution function using the selected sample. \n",
    "  3. Using a loop repeat the second step $30$ times. For each sample estimate the population mean and save each estimate. Calculate the *mean squared error* of your estimated means.\n",
    "  4. Plot the histogram of all $30$ saved sample means (**Only sample means**). According to the histogram, what is the *sampling distribution* of the mean?\n",
    "  5. If instead of $500$ times, we resample over and over for a large number of times, how does the sample mean change?"
   ]
  },
  {
   "cell_type": "code",
   "execution_count": 17,
   "metadata": {},
   "outputs": [],
   "source": [
    "import numpy as np\n",
    "import pandas as pd\n",
    "import matplotlib.pyplot as plt\n",
    "import scipy.stats  as stats\n",
    "import math"
   ]
  },
  {
   "cell_type": "code",
   "execution_count": 18,
   "metadata": {},
   "outputs": [
    {
     "name": "stdout",
     "output_type": "stream",
     "text": [
      "[38.71554095 69.9601817  59.24467747 ... 42.28479327 43.92714079\n",
      " 35.60840992]\n"
     ]
    }
   ],
   "source": [
    "#1.Assume that  𝑋∼𝑁(𝜇,𝜎2)  with  𝜇=55,𝜎=15 . Randomly generate a set of  1000,000  values for  𝑋 \n",
    "#according to the given distribution and call it set  𝐷 .\n",
    "np.random.seed(123)\n",
    "sample_size = 1000\n",
    "\n",
    "#1.Assume that  𝑋∼𝑁(𝜇,𝜎2) (normal distribution) with  𝜇=55,𝜎=15\n",
    "#Randomly generate a set of 1000,000 values for 𝑋 according to the given distribution and call it set 𝐷 .\n",
    "mu = 55\n",
    "sigma = 15\n",
    "D = stats.norm.rvs(size=1000000,  # Generate 1000000 numbers\n",
    "                  loc = mu,      \n",
    "                  scale = sigma)    \n",
    "print(D)"
   ]
  },
  {
   "cell_type": "code",
   "execution_count": 19,
   "metadata": {},
   "outputs": [
    {
     "name": "stdout",
     "output_type": "stream",
     "text": [
      "[56.58120253 67.92922894 55.19918441 48.24473337 35.69247838 78.10249866\n",
      " 50.29612829 60.31423474 53.7244298  46.97961229 32.60578552 37.96654239\n",
      " 49.36395733 55.74081049 49.79119217 41.10328683 64.8064774  50.06357603\n",
      " 50.75309315 52.06628662 53.98728573 62.7926766  73.6998135  58.98097269\n",
      " 42.90351024 61.41610725 47.89914735 49.19823266 47.45764815 36.74050014\n",
      " 45.27422334 83.34162858 56.39933875 59.76341953 52.4585949  49.95330971\n",
      " 58.32950112 20.40094716 52.91253396 66.53634452 96.73211993 55.07106865\n",
      " 49.22374974 82.97484171 55.61467833 70.55124848 76.52047979 54.30046746\n",
      " 52.1861275  80.93806482 33.55043422 43.38513804 39.03129535 62.10964126\n",
      " 51.56059891 54.37953996 43.1788329  41.72115479 66.07901406 39.85194871\n",
      " 32.93207613 29.61255604 68.72125704 52.85378182 62.7817657  54.91049742\n",
      " 50.00770672 58.67689693 71.89341546 54.55913456 74.45351591 46.18989279\n",
      " 66.75578129 51.05960582 49.13543699 56.53624921 92.28927373 78.24882167\n",
      " 67.4418511  37.71002125 26.70126418 54.09381833 69.66446403 45.16110784\n",
      " 72.83592296 49.96027178 45.18404519 36.35882727 40.89710783 76.35415947\n",
      " 50.44270878 47.16621367 46.00735512 67.01783488 46.13705889 60.4744039\n",
      " 63.88778614 48.25135105 92.59635301 45.18348128 40.78011505 92.48292199\n",
      " 51.24165356 57.40696612 63.5440229  34.42790585 76.05298752 59.99393495\n",
      " 55.4897578  56.08302341 70.44555418 58.96878648 46.37685015 70.53364198\n",
      " 47.76333493 39.29583635 44.61464385 86.40437517 75.89064272 45.80138894\n",
      " 47.18975616 28.90888506 38.39893938 41.7063901  60.40357995 64.93115559\n",
      " 65.30708346 44.53245103 52.21498081 16.87122404 45.73807966 43.66112188\n",
      " 71.08441242 71.01467889 88.4533579  51.84989962 59.83654267 49.99700091\n",
      " 84.45092126 37.81742531 70.63901237 48.86957001 67.22216467 23.01597574\n",
      " 59.10624084 13.15140928 46.93760356 83.87939082 48.73074817 51.93339279\n",
      " 38.89161258 66.22430635 37.26469188 67.79977536 29.25471318 55.47775257\n",
      " 48.7027918  43.04881483 54.66857641 43.80973672 72.11454366 76.84513279\n",
      " 47.63943423 43.54043359 37.08537683 46.1095836  61.62135841 66.12782833\n",
      " 34.97129903 54.75503075 75.41466972 51.75985454 63.80957279 61.84014212\n",
      " 71.45981683 86.64220239 69.69332842 59.15392215 57.97175521 47.73063006\n",
      " 54.16315317 61.725841   66.31886665 29.6798476  74.26641872 49.33313462\n",
      " 71.87784698 74.99804389 59.73866199 36.95156566 53.58766473 38.13257433\n",
      " 24.22994082 43.67997997 42.756708   58.59450339 52.26944999 59.51136403\n",
      " 46.87926437 47.49439386 53.97503384 65.84159458 64.62200833 40.84242524\n",
      " 46.26956575 58.2570752  39.77113569 37.48489791 55.96971411 66.93380415\n",
      " 63.89272357 39.23774458 29.27033527 54.19614357 70.55782387 77.18993066\n",
      " 95.88984401 45.0774949  79.28575648 44.34555298 61.17470331 39.58890099\n",
      " 58.56547142 44.89271187 49.53265569 89.19110756 47.97263088 62.75422109\n",
      " 39.56622596 71.53961714 73.53623504 50.60560928 41.12985916 35.64552739\n",
      " 43.80632796 62.18224914 26.57290413 46.38248508 64.76487729 64.61797531\n",
      " 87.27067132 73.81598307 51.39405875 66.9131072  81.84025154 68.72106797\n",
      " 73.20195344 69.42558244 53.0931409  39.00936061 65.51017456 53.08307216\n",
      " 72.59402577 47.11655455 54.07522044 54.0777991  37.36706735 38.53127298\n",
      " 71.00939501 51.32862902 75.33866556 51.4624301  51.69198965 49.05663629\n",
      " 64.82753001 15.48864921 58.15537849 50.22585325 36.12032905 56.44714469\n",
      " 51.45097236 55.20475967 38.56716277 63.15616669 71.06844265 60.12092429\n",
      " 51.13285072 44.01129217 67.01066653 65.26442069 63.48337537 43.89331669\n",
      " 82.57740912 48.04008123 70.18060606 65.40379314 48.8997679  52.4669227\n",
      " 44.12019747 60.78681241 60.11602853 19.83432434 39.00290766 68.59982006\n",
      " 56.51842658 60.05061384 68.51052111 54.49071822 55.99511211 66.15111018\n",
      " 37.48425235 69.53725049 33.94065365 61.20922827 76.23074818 56.15811261\n",
      " 57.78715992 74.34597323 41.76915058 45.17778929 45.20099134 48.91677269\n",
      " 60.28582408 75.95403586 70.1241754  66.13777706 52.23070383 39.94900554\n",
      " 16.60556344 58.14708995 58.41838079 74.09245729 51.2707924  49.4804149\n",
      " 68.75902289 62.60084799 35.03873323 54.72841953 41.65024558 41.75196416\n",
      " 57.02938626 61.68566609 65.33022146 66.22982857 33.32855077 63.69531491\n",
      " 35.94857518 51.83563538 79.39169269 62.80076405 63.76456496 41.18335449\n",
      " 52.20335449 59.79822245 71.7445088  50.58994097 77.57826283 64.11981479\n",
      " 53.5220636  60.8610635  56.03443115 42.11843285 31.52777939 63.4268679\n",
      " 94.30379472 36.17321656 52.70912351 56.9294822  72.23846918 44.17003351\n",
      " 52.51757458 45.04580223 62.34035904 60.6655576  50.02824706 42.53020241\n",
      " 58.49095648 51.6517505  44.41162135 36.1165908  54.8005907  44.95166511\n",
      " 44.96123072 23.71150526 86.19356826 54.85475887 59.63090319 44.21787035\n",
      " 27.42606142 68.09253716 35.43051057 54.48690813 78.78585972 78.80196296\n",
      " 53.44111921 62.24574534 65.92945272 84.52053468 69.53607787 49.90846413\n",
      " 56.91558093 71.54686591 57.17218358 51.94458356 43.4082598  39.81474095\n",
      " 58.70119589 43.75092646 66.40799411 59.58793824 51.37229012 49.31570241\n",
      " 59.38604765 47.31495842 74.90833775 68.48806375 58.71899982 67.21404746\n",
      " 85.01575763 70.62010558 57.86905892 65.55755807 65.36682211 63.23286995\n",
      " 57.21796701 67.42455446 68.14218885 58.10998144 34.97625622 70.04922358\n",
      " 41.01471127 30.26477162 60.53008494 41.34827928 65.60065167 50.30528583\n",
      " 51.61960585 36.07611155 46.08533872 40.99444128 57.87187477 67.24096924\n",
      " 44.01085355 48.96876526 72.61551736 11.50488648 59.27991201 59.92751482\n",
      " 81.85149465 75.46872026 75.42482878 31.67832437 40.61078127 70.33285902\n",
      " 34.66098393 48.3251706  68.09828238 51.1331707  38.02693298 70.11634309\n",
      " 53.06727881 65.20566085 39.03669266 68.12978117 91.0064533  49.28860451\n",
      " 67.63887078 44.70050806 62.57786166 47.46086277 70.72537523 51.80811519\n",
      " 56.92281813 82.2870475  47.42026452 81.32692018 74.35138105 67.44871798\n",
      " 28.25191999 31.83820411 81.14027335 36.6019091  81.61997582 46.56137254\n",
      " 47.96676955 65.56420444 51.07887994 13.16728174 49.79531854 71.14811965\n",
      " 60.14469121 95.10248023 68.33322038 23.02369995 53.72956887 35.38976111\n",
      " 21.45648469 55.07813382 54.69435423 37.80172828 50.79431902 56.57939295\n",
      " 40.70260399 62.40996053 42.74207328 57.27263694 84.87108057 57.77796679\n",
      " 99.17486692 62.30541763 52.28058113 41.24427201 47.56320481 47.24324106\n",
      " 48.537578   61.18468001 48.5100429  44.29999901 55.80130593 63.52086613\n",
      " 65.14087929 64.65529222 73.80134239 35.1921062  48.2582909  56.6835723\n",
      " 60.52316668 60.83959267 43.76563549 52.69237571 48.95455793 46.93652132\n",
      " 17.10421509 71.10219267 42.28853497 83.21283949 39.25426573 75.30912958\n",
      " 39.57041064 55.33121292 72.04533482 48.50238721 57.18624034 45.92968934\n",
      " 60.68868478 51.18788983 57.00031474 44.19016532 59.59878551 42.84816466\n",
      " 44.22983709 43.343887   50.1396335  84.31167946 54.07797411 79.69516394\n",
      " 56.81835581 55.59074853 62.68955896 25.10179169 52.31886263 43.11562887\n",
      " 51.64278822 50.86827249 52.44171629 45.71103443 41.3607928  59.4454703\n",
      " 46.73306803 60.57285475 47.53209731 39.16129065 33.15087201 51.9093351\n",
      " 56.69240966 56.94867682 57.14826481 33.44958833 73.98191802 39.55046164\n",
      " 68.85267979 44.12827316 52.61048186 50.51361111 47.42749919 45.72612078\n",
      " 60.38802571 64.47299296 30.79950425 24.10552211 66.07403144 45.53895612\n",
      " 62.10214738 58.26849092 53.25785877 48.21415165 44.32727159 37.34054693\n",
      " 64.6603083  43.44153459 41.32733207 61.18718914 51.24297632 42.38154423\n",
      " 62.92341695 64.9097758  62.60374171 48.88521947 57.46433514 29.76994436\n",
      " 55.56498113 70.17046757 72.47254981 67.37085268 54.28473668 43.2327626\n",
      " 63.55270025 63.41680022 87.23215539 73.51355101 67.91393023 64.46664209\n",
      " 53.94302153 30.03443341 63.27773538 49.63698201 54.8867343  42.21629716\n",
      " 53.46931524 55.75003857 35.13512808 67.37209488 46.46552134 44.2862512\n",
      " 44.89886373 73.90101232 37.18050012 21.82111665 40.42318749 57.5933088\n",
      " 83.62988146 15.4579982  47.2478758  53.09390428 65.47579423 62.32560371\n",
      " 49.96271984 50.18906737 61.51347082 48.14949048 55.75755503 49.31052663\n",
      " 64.0445043  55.54241259 35.11012346 65.58277618 54.96508796 41.90010917\n",
      " 22.20759851 68.93485417 77.70765719 60.40172562 73.24859692 56.98411197\n",
      " 55.16937212 39.01247113 63.60005867 61.95072968 49.29629123 35.74891215\n",
      " 77.39833593 52.31286288 89.10153942 70.1374674  54.29719116 54.22953221\n",
      " 47.41099659 64.87564371 34.5508377  49.74410123 40.45136102 56.01768057\n",
      " 58.54114605 46.6065277  51.53174046 54.59353484 57.23550983 42.72684009\n",
      " 56.22531131 62.48849743 36.97487987 50.14156599 64.8761526  71.84106854\n",
      " 55.93276795 65.0122032  25.87092632 73.78701674 44.68248796 35.21741836\n",
      " 65.60139681 48.8003273  47.85959177 26.43121764 47.81360975 46.67637197\n",
      " 47.51325053 50.52862136 58.77511845 80.73932286 31.99181585 61.94665163\n",
      " 74.25897797 68.65734686 66.47613862 71.43843567 78.09991916 52.38162424\n",
      " 46.44561046 35.12156974 49.1752017  69.82630765 75.80199686 44.39993845\n",
      " 25.41840617 54.28556627 63.16068493 68.41406301 61.42635815 59.68384975\n",
      " 40.23784987 44.62886249 71.07158005 56.98217551 65.0504657  52.24093454\n",
      " 41.88904074 83.96919918 27.14594195 57.71867819 55.72087172 55.06825777\n",
      " 47.01572467 74.62480625 64.50218766 50.62049705 60.5107557  55.7414532\n",
      " 33.86549701 72.63056208 44.51882196 53.50891122 72.26776452 41.15411211\n",
      " 56.35937579 65.72870317 75.79922069 57.47890897 61.81012654 74.9763721\n",
      " 57.79099784 62.75792966 68.25919476 45.15635492 39.27028741 55.38563949\n",
      " 76.11919354 62.95418555 35.00141408 25.92241771 34.58026692 50.09266613\n",
      " 62.4379593  56.54768941 58.4850129  53.74142784 53.97249544 62.82547601\n",
      " 29.06692292 75.70929824 44.81989173 52.18172889 59.2965989  58.18729164\n",
      " 51.40164493 64.10024919 36.97045087 46.45385202 81.88969883 53.82587051\n",
      " 48.89994758 60.83106211 59.37206956 65.21282507 68.72264448 55.150415\n",
      " 61.25201258 44.24033121 47.59436454 59.04525586 36.54466203 61.53612315\n",
      " 54.87336357 89.20230142 32.30939278 62.24811169 66.73431378 83.80213992\n",
      " 43.55545427 59.60203778 48.74137556 68.58868641 63.97637575 70.04966884\n",
      " 59.43749259 24.28096843 39.37558075 48.69941875 34.5508377  77.21044274\n",
      " 51.29324432 53.81569061 72.11989336 61.97650792 48.66403422 43.68190816\n",
      " 49.95285825 55.38745637 63.27028546 45.46214197 57.43322721 70.43768284\n",
      " 73.77774756 62.95821361 40.82353374 26.14045057 27.55885539 75.79454041\n",
      " 73.25922965 41.97602563 60.0603288  61.44423049 51.9860274  70.86403781\n",
      " 77.72036434 48.15074539 58.26540278 16.75405273 59.90926558 66.67893102\n",
      " 53.68429372 37.52115864 65.81162516 47.14255553 42.99230372 40.8746397\n",
      " 44.33693451 48.80021938 53.12568666 77.90175835 44.65782981 87.63694663\n",
      " 48.27726953 63.58867445 33.82006319 40.63482168 31.04300244 20.44499672\n",
      " 31.89417531 64.8710056  66.08597242 53.57950087 65.17662099 59.92437897\n",
      " 69.88878448 43.34459502 72.39152191 63.93836807 61.84272074 47.96943092\n",
      " 31.16202729 38.67724807 45.78689638 60.38316731 60.13241842 46.77141552\n",
      " 54.11541309 47.89551524 49.58966765 44.65445779 53.81220991 82.00803553\n",
      " 58.82219778 43.22621461 45.62701605 42.44564498 66.7972336  46.09507031\n",
      " 38.26072994 64.4080057  56.40114067 49.4945863  37.04432153 80.60134724\n",
      " 63.75435498 41.26208064 35.09983041 56.54476455 61.46365926 51.77866985\n",
      " 53.23357058 50.09789536 84.59459228 62.86733257 90.96332681 55.44131805\n",
      " 52.08429686 42.22193899 45.90012795 46.15551267 66.63686506 65.48298595\n",
      " 70.62326157 44.57231224 44.45282907 53.39075309 39.49312355 59.37630711\n",
      " 44.56106982 34.58067117 32.41470794 56.11188839 45.33661162 64.82712128\n",
      " 33.40480512 53.66811682 34.6056645  63.0589957  65.05631209 51.63920703\n",
      " 18.23173651 56.66985393 57.30968509 40.29115493 64.68284323 67.60517506\n",
      " 72.00809475 44.19367248 52.30926026 47.48738346 54.46328012 25.98887293\n",
      " 76.10010585 44.46191612 50.34204448 41.90589149 62.22827258 46.54699797\n",
      " 55.59140533 67.33353138 66.41133464 54.46369951 66.55501959 39.43969828\n",
      " 69.16891565 48.05385866 39.60125318 80.03115247 40.72377452 77.73948048\n",
      " 45.12581308 54.57495812 72.4731834  63.8080467  75.86040538 51.11364254\n",
      " 54.80889532 69.08784642 72.51541967 51.48221316 72.02824606 39.69461307\n",
      " 31.98350862 43.3730976  76.5548189  71.30797724 47.0548912  54.35862171\n",
      " 61.31596861 45.70908423 48.43916056 65.05664819 16.99565467 71.44138375\n",
      " 74.05512943 74.91295585 39.33135337 59.99159545 43.78777668 72.97151383\n",
      " 42.15673393 41.71397606 56.79231086 71.92782538 67.7962067  63.41933425\n",
      " 50.40369421 46.71041669 72.7751343  44.34697088]\n"
     ]
    }
   ],
   "source": [
    "#2.Pretend that  𝐷  is your whole population. Choose a sample of  1000  values from  𝐷 .\n",
    "sample_s = np.random.choice(a=D,size=sample_size)\n",
    "print(sample_s)"
   ]
  },
  {
   "cell_type": "code",
   "execution_count": null,
   "metadata": {},
   "outputs": [
    {
     "data": {
      "image/png": "[encoded data removed]",
      "text/plain": [
       "<Figure size 288x216 with 1 Axes>"
      ]
     },
     "metadata": {
      "needs_background": "light"
     },
     "output_type": "display_data"
    }
   ],
   "source": [
    "#3.Plot an approximate density distribution function using the selected sample.\n",
    "plot = pd.DataFrame(sample_s).plot(kind=\"density\", figsize=(4,3))"
   ]
  },
  {
   "cell_type": "code",
   "execution_count": null,
   "metadata": {},
   "outputs": [
    {
     "name": "stdout",
     "output_type": "stream",
     "text": [
      "55.0\n",
      "Mean squared error of the estimated means is : 0.22740779024496535\n"
     ]
    }
   ],
   "source": [
    "#4.Using a loop repeat the second step  30  times. For each sample estimate the population mean and save each estimate. \n",
    "sample_means = []\n",
    "for x in range(30):\n",
    "    sample_s = np.random.choice(a=D,size=sample_size)  \n",
    "    sample_means.append(sample_s.mean())\n",
    "    \n",
    "# Calculate the mean squared error of your estimated means. \n",
    "#mean of the population call this Y_mean\n",
    "Y_mean = stats.norm.mean(loc=mu, scale=sigma)\n",
    "print(Y_mean)\n",
    "#print(sample_means)\n",
    "samplemeanerr_square = (sample_means - Y_mean) ** 2\n",
    "MSE = sum(samplemeanerr_square)/len(samplemeanerr_square)\n",
    "print(\"Mean squared error of the estimated means is :\", MSE)"
   ]
  },
  {
   "cell_type": "code",
   "execution_count": null,
   "metadata": {},
   "outputs": [
    {
     "data": {
      "image/png": "[encoded data removed]",
      "text/plain": [
       "<Figure size 432x288 with 1 Axes>"
      ]
     },
     "metadata": {
      "needs_background": "light"
     },
     "output_type": "display_data"
    }
   ],
   "source": [
    "#5.Plot the histogram of all  30  saved sample means (Only sample means)\n",
    "hist = pd.DataFrame(sample_means).hist()\n",
    "\n"
   ]
  },
  {
   "cell_type": "markdown",
   "metadata": {},
   "source": [
    "6.If instead of  500  times, we resample over and over for a large number of times, how does the sample mean change?\n",
    "\n",
    "Ans:\n",
    "If we resample over and over for a large number of times, the sample means are normally distributed around the population mean. "
   ]
  },
  {
   "cell_type": "markdown",
   "metadata": {},
   "source": [
    "## Question 6\n",
    "Suppose that we would like to model the event of flipping a coin for $15$ times. If the probability of getting heads equals $0.6$, then answer the following questions. <br>\n",
    "<span style=\"color:red\"> **Do not forget to include your codes.**</span>  \n",
    "  1. Which distribution is it and what are the parameters of the distribution? Is it a discrete or continuous distribution?\n",
    "  2. What is the probability of obtaining $10$ heads? Explain how to calculate it.\n",
    "  3. What is the probability of getting more than or equal to $10$ heads? What about less than or equal to $10$\n",
    "     head? What should be the summation of these two probabilities and why?\n",
    "  4. Find the expected value of obtained number of heads in each trial? (**Each trial consists of $15$ tosses**)\n",
    "  5. How probable is it to get (H,H,H,T,T,H,T,T,H,T,H,H,H,T,H)?\n",
    "  6. Find the first, second, and the third quantiles.\n",
    "  7. Repeat the trial $10$ times and estimate the mean each time. Using `pandas.crosstab` build the frequency table of the results. Plot the histogram of these ten estimates. \n",
    "  8. Now, gradually increase the number of trials from $100$ to $1000$. (start from $100$ and add $50$ each time to reach $1000$.) Plot the histogram for the sample mean each time. How does the sampling distribun of mean is changing?\n",
    "  \n",
    "   "
   ]
  },
  {
   "cell_type": "markdown",
   "metadata": {},
   "source": [
    "1.Which distribution is it and what are the parameters of the distribution? Is it a discrete or continuous distribution?\n",
    "\n",
    "Ans:Fliping a coin, possible outcomes are head/tail. Therefore it is discrete. As it is taking only 2 values (Bernoulli Distribution), however a random variable X is said to be binomial if it represents the number of successes in n independent Bernoulli trials. It is denoted by X ∼ Binom(n; p), Mean: E(X) = np, Variance: Var(X) = np(1 − p)"
   ]
  },
  {
   "cell_type": "code",
   "execution_count": null,
   "metadata": {},
   "outputs": [],
   "source": [
    "import random\n",
    "import numpy as np\n",
    "import pandas as pd\n",
    "import math\n",
    "from scipy.stats import binom\n"
   ]
  },
  {
   "cell_type": "markdown",
   "metadata": {},
   "source": [
    "2.What is the probability of obtaining  10  heads? Explain how to calculate it.\n",
    "\n",
    "Ans:p(1 head) = 0.6, q(1tail) = 1-0.6 = 0.4\n",
    "P(k out of n) =   (n!/k!(n-k)!) * (p ** k) * ((1-p) ** (n-k)) where n = no of trials, p = probability of success"
   ]
  },
  {
   "cell_type": "code",
   "execution_count": null,
   "metadata": {},
   "outputs": [
    {
     "name": "stdout",
     "output_type": "stream",
     "text": [
      "the probability of obtaining  10  heads is : 0.18593784476467232\n"
     ]
    }
   ],
   "source": [
    "#2.What is the probability of obtaining  10  heads?\n",
    "n = 15\n",
    "p = 0.6\n",
    "k= 10\n",
    "print(\"the probability of obtaining  10  heads is :\", binom.pmf(k,n,p))"
   ]
  },
  {
   "cell_type": "code",
   "execution_count": null,
   "metadata": {},
   "outputs": [
    {
     "name": "stdout",
     "output_type": "stream",
     "text": [
      "probability of getting more than or equal to  10  heads is : 0.4032155504148489\n",
      "probability of getting less than or equal to  10  heads is : 0.782722294349824\n",
      "summation of these two probabilities is: 1.185937844764673\n",
      "probability of getting less than 10  heads is : 0.5967844495851539\n",
      "Total Probability:  1.0000000000000027\n"
     ]
    }
   ],
   "source": [
    "#3.What is the probability of getting more than or equal to  10  heads? What about less than or equal to  10  head? \n",
    "# What should be the summation of these two probabilities and why?\n",
    "\n",
    "#probability of getting more than or equal to  10  heads\n",
    "k = np.arange(10,16)\n",
    "binom10_moreorequal = binom.pmf(k, n, p) \n",
    "p10_moreorequal = np.sum(binom10_moreorequal)\n",
    "print(\"probability of getting more than or equal to  10  heads is :\", p10_moreorequal)   \n",
    "\n",
    "#probability of getting less than or equal to  10  head\n",
    "k = 10\n",
    "p10_lessorequal = binom.cdf(k,n,p) \n",
    "print(\"probability of getting less than or equal to  10  heads is :\", p10_lessorequal)\n",
    "\n",
    "#summation of these two probabilities\n",
    "print(\"summation of these two probabilities is:\", p10_moreorequal + p10_lessorequal)\n",
    "\n",
    "#probability of getting less than 10  heads\n",
    "k = np.arange(0,10)\n",
    "binom10_less = binom.pmf(k, n, p) \n",
    "p10_less = np.sum(binom10_less)\n",
    "print(\"probability of getting less than 10  heads is :\", p10_less) \n",
    "print(\"Total Probability: \", p10_less+p10_moreorequal)\n"
   ]
  },
  {
   "cell_type": "code",
   "execution_count": null,
   "metadata": {},
   "outputs": [
    {
     "name": "stdout",
     "output_type": "stream",
     "text": [
      "9.0\n",
      "expected value of obtained number of heads in each trial 9.000000000000025\n"
     ]
    }
   ],
   "source": [
    "#4.Find the expected value of obtained number of heads in each trial? (Each trial consists of  15  tosses)\n",
    "print(binom.mean(n, p))\n",
    "expect_val= binom.expect(args=(n, p))\n",
    "print(\"expected value of obtained number of heads in each trial\", expect_val )"
   ]
  },
  {
   "cell_type": "code",
   "execution_count": null,
   "metadata": {},
   "outputs": [
    {
     "name": "stdout",
     "output_type": "stream",
     "text": [
      "probable is it to get (H,H,H,T,T,H,T,T,H,T,H,H,H,T,H) 4.1278242815999987e-05\n"
     ]
    }
   ],
   "source": [
    "#5.How probable is it to get (H,H,H,T,T,H,T,T,H,T,H,H,H,T,H)?\n",
    "p_h = 0.6\n",
    "p_t= 1- 0.6 \n",
    "print(\"probable is it to get (H,H,H,T,T,H,T,T,H,T,H,H,H,T,H)\",p_h*p_h*p_h*p_t*p_t*p_h*p_t*p_t*p_h*p_t*p_h*p_h*p_h*p_t*p_h ) "
   ]
  },
  {
   "cell_type": "code",
   "execution_count": null,
   "metadata": {},
   "outputs": [
    {
     "name": "stdout",
     "output_type": "stream",
     "text": [
      "The first quantile is : 8.0\n",
      "The second quantile is : 9.0\n",
      "The third quantile is : 10.0\n"
     ]
    }
   ],
   "source": [
    "#6.Find the first, second, and the third quantiles.\n",
    "n = 15\n",
    "p = 0.6\n",
    "print(\"The first quantile is :\",binom.ppf(0.25, n, p))\n",
    "print(\"The second quantile is :\",binom.ppf(0.5, n, p))\n",
    "print(\"The third quantile is :\",binom.ppf(0.75, n, p))"
   ]
  },
  {
   "cell_type": "code",
   "execution_count": null,
   "metadata": {},
   "outputs": [
    {
     "name": "stdout",
     "output_type": "stream",
     "text": [
      "[8.0, 12.0, 8.0, 12.0, 9.0, 9.0, 9.0, 9.0, 8.0, 12.0]\n"
     ]
    },
    {
     "data": {
      "text/html": [
       "<div>\n",
       "<style scoped>\n",
       "    .dataframe tbody tr th:only-of-type {\n",
       "        vertical-align: middle;\n",
       "    }\n",
       "\n",
       "    .dataframe tbody tr th {\n",
       "        vertical-align: top;\n",
       "    }\n",
       "\n",
       "    .dataframe thead th {\n",
       "        text-align: right;\n",
       "    }\n",
       "</style>\n",
       "<table border=\"1\" class=\"dataframe\">\n",
       "  <thead>\n",
       "    <tr style=\"text-align: right;\">\n",
       "      <th>samplemean</th>\n",
       "      <th>8.0</th>\n",
       "      <th>9.0</th>\n",
       "      <th>12.0</th>\n",
       "    </tr>\n",
       "    <tr>\n",
       "      <th>sample_size</th>\n",
       "      <th></th>\n",
       "      <th></th>\n",
       "      <th></th>\n",
       "    </tr>\n",
       "  </thead>\n",
       "  <tbody>\n",
       "    <tr>\n",
       "      <th>1</th>\n",
       "      <td>1</td>\n",
       "      <td>0</td>\n",
       "      <td>0</td>\n",
       "    </tr>\n",
       "    <tr>\n",
       "      <th>2</th>\n",
       "      <td>0</td>\n",
       "      <td>0</td>\n",
       "      <td>1</td>\n",
       "    </tr>\n",
       "    <tr>\n",
       "      <th>3</th>\n",
       "      <td>1</td>\n",
       "      <td>0</td>\n",
       "      <td>0</td>\n",
       "    </tr>\n",
       "    <tr>\n",
       "      <th>4</th>\n",
       "      <td>0</td>\n",
       "      <td>0</td>\n",
       "      <td>1</td>\n",
       "    </tr>\n",
       "    <tr>\n",
       "      <th>5</th>\n",
       "      <td>0</td>\n",
       "      <td>1</td>\n",
       "      <td>0</td>\n",
       "    </tr>\n",
       "    <tr>\n",
       "      <th>6</th>\n",
       "      <td>0</td>\n",
       "      <td>1</td>\n",
       "      <td>0</td>\n",
       "    </tr>\n",
       "    <tr>\n",
       "      <th>7</th>\n",
       "      <td>0</td>\n",
       "      <td>1</td>\n",
       "      <td>0</td>\n",
       "    </tr>\n",
       "    <tr>\n",
       "      <th>8</th>\n",
       "      <td>0</td>\n",
       "      <td>1</td>\n",
       "      <td>0</td>\n",
       "    </tr>\n",
       "    <tr>\n",
       "      <th>9</th>\n",
       "      <td>1</td>\n",
       "      <td>0</td>\n",
       "      <td>0</td>\n",
       "    </tr>\n",
       "    <tr>\n",
       "      <th>10</th>\n",
       "      <td>0</td>\n",
       "      <td>0</td>\n",
       "      <td>1</td>\n",
       "    </tr>\n",
       "  </tbody>\n",
       "</table>\n",
       "</div>"
      ],
      "text/plain": [
       "samplemean   8.0   9.0   12.0\n",
       "sample_size                  \n",
       "1               1     0     0\n",
       "2               0     0     1\n",
       "3               1     0     0\n",
       "4               0     0     1\n",
       "5               0     1     0\n",
       "6               0     1     0\n",
       "7               0     1     0\n",
       "8               0     1     0\n",
       "9               1     0     0\n",
       "10              0     0     1"
      ]
     },
     "execution_count": 29,
     "metadata": {},
     "output_type": "execute_result"
    }
   ],
   "source": [
    "#7.Repeat the trial  10  times and estimate the mean each time. Using pandas.crosstab build the frequency table of the results.\n",
    "#Plot the histogram of these ten estimates\n",
    "\n",
    "sample_sizes = [] \n",
    "samplemeans = []\n",
    "for i in range(1,11):\n",
    "    sample_sizes.append(i) #appending sample size which is 1\n",
    "    data_binom = binom.rvs(n=15,p=0.6,size=1)\n",
    "    samplemean = data_binom.mean()\n",
    "    samplemeans.append(samplemean) # appending sample means \n",
    "print(samplemeans)   \n",
    "data1 = pd.DataFrame.from_dict({'sample_size': sample_sizes,'samplemean': samplemeans, })\n",
    "pd.crosstab(data1.sample_size,data1.samplemean)"
   ]
  },
  {
   "cell_type": "code",
   "execution_count": null,
   "metadata": {},
   "outputs": [
    {
     "name": "stdout",
     "output_type": "stream",
     "text": [
      "[9.25, 9.013333333333334, 8.855, 8.932, 9.036666666666667, 9.06857142857143, 8.9775, 9.117777777777778, 8.916, 9.136363636363637, 8.938333333333333, 9.043076923076923, 9.117142857142857, 8.950666666666667, 9.0325, 8.98235294117647, 9.005555555555556, 8.993684210526316, 9.086]\n",
      "[100, 150, 200, 250, 300, 350, 400, 450, 500, 550, 600, 650, 700, 750, 800, 850, 900, 950, 1000]\n"
     ]
    }
   ],
   "source": [
    "#8.Now, gradually increase the number of trials from  100  to  1000 . (start from  100  and add  50  each time to reach  1000 .)\n",
    "#Plot the histogram for the sample mean each time. How does the sampling distribun of mean is changing?\n",
    "max_sample_size = 1000\n",
    "sample_size1 = 50\n",
    "sample_sizes = [] \n",
    "samplemeans1 = []\n",
    "#for i in range(100,1000+50,50):\n",
    "for i in range(100,max_sample_size + sample_size1,sample_size1):\n",
    "    sample_sizes.append(i) #appending sample size which is 1\n",
    "    data_binom = binom.rvs(n=15,p=0.6,size=i)\n",
    "    sample_mean = data_binom.mean()\n",
    "    samplemeans1.append(sample_mean) # appending sample means \n",
    "print(samplemeans1)\n",
    "print(sample_sizes)"
   ]
  },
  {
   "cell_type": "code",
   "execution_count": null,
   "metadata": {},
   "outputs": [
    {
     "data": {
      "text/plain": [
       "Text(0.5, 1.0, 'sample means versus sample sizes')"
      ]
     },
     "execution_count": 31,
     "metadata": {},
     "output_type": "execute_result"
    },
    {
     "data": {
      "text/plain": [
       "Text(0.5, 0, 'sample means')"
      ]
     },
     "execution_count": 31,
     "metadata": {},
     "output_type": "execute_result"
    },
    {
     "data": {
      "text/plain": [
       "Text(0, 0.5, 'sample sizes')"
      ]
     },
     "execution_count": 31,
     "metadata": {},
     "output_type": "execute_result"
    },
    {
     "data": {
      "image/png": "[encoded data removed]",
      "text/plain": [
       "<Figure size 432x288 with 1 Axes>"
      ]
     },
     "metadata": {
      "needs_background": "light"
     },
     "output_type": "display_data"
    }
   ],
   "source": [
    "##Plot the histogram for the sample mean each time. How does the sampling distribun of mean is changing?\n",
    "#plt.hist(samplemeans1, normed=True, bins=5)\n",
    "hist = pd.DataFrame(samplemeans1).hist()\n",
    "plt.title('sample means versus sample sizes')\n",
    "plt.xlabel('sample means')\n",
    "plt.ylabel('sample sizes')\n",
    "plt.show()"
   ]
  },
  {
   "cell_type": "markdown",
   "metadata": {},
   "source": [
    "## Question 7\n",
    "Assume that for a study we want to sample people from the Montreal population. The target of the study is a particular disease. If the probability of sampling a person with this disease equals $0.007$. \n",
    "  1. How many people we need to sample totally in order to get exactly $73$ patients with the disease?\n",
    "  2. How many people we need to sample totally in order to have at least $73$ patients with the target disease?\n",
    "  3. What distribution is it and what are its parameters?\n",
    "  4. Callculate the expected value, variance, as well as the first, second and the third quantiles.\n",
    "   "
   ]
  },
  {
   "cell_type": "markdown",
   "metadata": {},
   "source": [
    "The target of the study is a particular disease (either having disease or not: success or failuer, each patients has the disease or not)(therefore it's a Bernoulli distribution). Based on this we can consider binomial distibution (as summing up the Bernoulli) to calculate further.\n",
    "\n",
    "Probability of sampling a person with this disease p(X)= 0.007.\n",
    "We need the sample size (parameter n which is unknown) to calculate the results. We can try considering some probable value for this.\n",
    "\n",
    "Q.1. How many people we need to sample totally in order to get exactly  73  patients with the disease?\n",
    "\n",
    "Ans:\n",
    "If we consider p(X) = 1 , then we can conclude that exactly 73 patients have the disease. However in reality we can never reach 1, therefore we can consider aproximating it to 1, using various 'n' values."
   ]
  },
  {
   "cell_type": "code",
   "execution_count": null,
   "metadata": {},
   "outputs": [
    {
     "name": "stdout",
     "output_type": "stream",
     "text": [
      "10428.571428571428\n",
      "approximate value for n(sample size) is:  3431\n"
     ]
    }
   ],
   "source": [
    "import random\n",
    "import numpy as np\n",
    "import pandas as pd\n",
    "import math\n",
    "from scipy.stats import binom\n",
    "\n",
    "#n= ?\n",
    "p = 0.007\n",
    "k = 73\n",
    "#we can start considering the expected value np = 73\n",
    "n = 73/p\n",
    "print(n)\n",
    "for i in range (10428,0,-1):\n",
    "    if binom.cdf(k,i,p) == 0.9999999999999999:\n",
    "        break\n",
    "    \n",
    "print(\"approximate value for n(sample size) is: \", i)    \n"
   ]
  },
  {
   "cell_type": "code",
   "execution_count": null,
   "metadata": {},
   "outputs": [],
   "source": [
    "#2.How many people we need to sample totally in order to have at least  73  patients with the target disease?\n",
    "#atleast 73 means it may be 73, 74, 75 ...(summing it up)\n"
   ]
  },
  {
   "cell_type": "markdown",
   "metadata": {},
   "source": [
    "Q3.What distribution is it and what are its parameters\n",
    "\n",
    "Ans:\n",
    "The target of the study is a particular disease (either having disease or not: success or failuer, each patients has the disease or not)(therefore it's a Bernoulli distribution). Based on this we can consider binomial distibution (as summing up the Bernoulli) to calculate further.\n",
    "\n",
    "Parameters are\n",
    "\n",
    "p= 0.007\n",
    "\n",
    "k= 73\n",
    "\n",
    "n = ?is unknown\n",
    "\n"
   ]
  },
  {
   "cell_type": "code",
   "execution_count": null,
   "metadata": {},
   "outputs": [
    {
     "name": "stdout",
     "output_type": "stream",
     "text": [
      "expected value : 24.016999999963794\n",
      "Variance : 23.848881\n",
      "The first quantile is : 21.0\n",
      "The second quantile is : 24.0\n",
      "The third quantile is : 27.0\n"
     ]
    }
   ],
   "source": [
    "#4.Callculate the expected value, variance, as well as the first, second and the third quantiles.\n",
    "n = 3431\n",
    "p = 0.007\n",
    "print(\"expected value :\", binom.expect(args=(n , p)))\n",
    "print(\"Variance :\", binom.var(n , p))\n",
    "print(\"The first quantile is :\",binom.ppf(0.25, n, p))\n",
    "print(\"The second quantile is :\",binom.ppf(0.5, n, p))\n",
    "print(\"The third quantile is :\",binom.ppf(0.75, n, p))"
   ]
  },
  {
   "cell_type": "markdown",
   "metadata": {},
   "source": [
    "## Question 8\n",
    "  1. Generate $1000$ data points according to the exponential distribution with parameter $\\lambda = 1.2$.\n",
    "  2. Estimate the mean of the sample.\n",
    "  3. Repeat the first step but each time increase the sample size up to $1000,000$. Calculate the sample mean each time. Scatterplot the mean versus the sample size for each repetition. Do you see any trend in the plot sample means? Can you guess the limit of the sample mean due to the plot?   \n"
   ]
  },
  {
   "cell_type": "code",
   "execution_count": null,
   "metadata": {},
   "outputs": [],
   "source": [
    "import numpy as np\n",
    "import pandas as pd\n",
    "import matplotlib.pyplot as plt\n",
    "import scipy.stats  as stats\n",
    "import random"
   ]
  },
  {
   "cell_type": "code",
   "execution_count": null,
   "metadata": {},
   "outputs": [
    {
     "name": "stdout",
     "output_type": "stream",
     "text": [
      "0.8333333333333334\n"
     ]
    }
   ],
   "source": [
    "#1.Generate  1000  data points according to the exponential distribution with parameter  𝜆=1.2 \n",
    "sample_size = 1000\n",
    "sample_means = [] \n",
    "\n",
    "sample_scale = 1/1.2\n",
    "print(sample_scale)\n",
    "sample_datapoint = stats.expon.rvs(scale=sample_scale,loc=0,size=sample_size)\n"
   ]
  },
  {
   "cell_type": "code",
   "execution_count": null,
   "metadata": {},
   "outputs": [
    {
     "name": "stdout",
     "output_type": "stream",
     "text": [
      "0.8293361809632063\n"
     ]
    }
   ],
   "source": [
    "#2.Estimate the mean of the sample.\n",
    "sample_mean = sample_datapoint.mean()\n",
    "print(sample_mean)"
   ]
  },
  {
   "cell_type": "code",
   "execution_count": null,
   "metadata": {},
   "outputs": [],
   "source": [
    "#3.Repeat the first step but each time increase the sample size up to  1000,000 . Calculate the sample mean each time.\n",
    "#Scatterplot the mean versus the sample size for each repetition. \n",
    "\n",
    "max_sample_size = 1000000\n",
    "sample_sizes = [] \n",
    "samplemeans = []\n",
    "#for i in range(1000,1000000+1000,1000):\n",
    "for i in range(sample_size,max_sample_size + sample_size,sample_size):\n",
    "    sample_sizes.append(i) #appending sample sizes\n",
    "    \n",
    "    sample_dp = stats.expon.rvs(scale=sample_scale,loc=0,size=i)\n",
    "    samplemean = sample_dp.mean()\n",
    "    samplemeans.append(samplemean) # appending sample means    \n",
    "#print(sample_sizes)\n",
    "#print(samplemeans)"
   ]
  },
  {
   "cell_type": "code",
   "execution_count": null,
   "metadata": {},
   "outputs": [],
   "source": [
    "#Scatterplot the mean versus the sample size for each repetition\n",
    "plt.scatter(samplemeans, sample_sizes)\n",
    "plt.title('sample means versus sample sizes')\n",
    "plt.xlabel('sample means')\n",
    "plt.ylabel('sample sizes')"
   ]
  },
  {
   "cell_type": "markdown",
   "metadata": {},
   "source": [
    "Q.Do you see any trend in the plot sample means? Can you guess the limit of the sample mean due to the plot?\n",
    "\n",
    "Ans:The sample mean remain similar by increasing the sample size (by increasing to a large number). the limit of the sample mean is in between  0.82 to 0.85 "
   ]
  },
  {
   "cell_type": "markdown",
   "metadata": {},
   "source": [
    "## Question 9\n",
    "<span style=\"color:red\">**Note:**</span> \n",
    "For this question you may need to **Google** in order to find commands necessary for some parts of the question. \n",
    "  1. Import `sklearn` library and from it import `datasets`. Aslso, set seed as in **Question 4**.\n",
    "  2. From `sklearn.datasets` load the dataset called \"Boston\". Read the documentaion of `sklearn.datasets` in order to understand the structure of datasets built in the library.\n",
    "  3. From the dataset `boston` extract the part called `data`. (`boston` is in the form of **dictionary** and includes different parts. You need to extract only the part called `data`)\n",
    "  4. Find the mean and standard deviation of each variable (=feature, column) in the data. \n",
    "  5. Assume the data you have are the whole population. Randomly sample $300$ entries from the $11$-th variable. Using this sample estimate estimate the population mean (whose true value is already calculated). \n",
    "  6. Provide a confidence interval with $95$% of confidence level. (To find the corresponding z-value you can use `stats.norm.ppf()`)\n",
    "  7. If you repeat Steps 5 and 6 above $20$ times, how many of these $20$ confidence intervals do you expect to include the true mean? Why?\n",
    "  8. Scatterplot the estimated means with their $95$% margins of error, as well as the true value of the mean. How many of the error margins include the true mean? Does it match with your answer to the previous step? If not, what is the reason in your opinion? \n",
    "  "
   ]
  },
  {
   "cell_type": "code",
   "execution_count": null,
   "metadata": {},
   "outputs": [],
   "source": [
    "import numpy as np\n",
    "import pandas as pd\n",
    "import random\n",
    "import scipy.stats as stats\n",
    "import math"
   ]
  },
  {
   "cell_type": "code",
   "execution_count": null,
   "metadata": {},
   "outputs": [],
   "source": [
    "#1.Import sklearn library and from it import datasets. Aslso, set seed as in Question 4.\n",
    "#2.From sklearn.datasets load the dataset called \"Boston\". Read the documentaion of sklearn.datasets in order to\n",
    "# understand the structure of datasets built in the library.\n",
    "\n",
    "from sklearn.datasets import load_boston\n",
    "np.random.seed(1234)\n",
    "\n",
    "boston = load_boston()\n",
    "print(boston.data.shape)\n"
   ]
  },
  {
   "cell_type": "code",
   "execution_count": null,
   "metadata": {},
   "outputs": [],
   "source": [
    "#3.From the dataset boston extract the part called data. (boston is in the form of dictionary and includes different parts.\n",
    "# You need to extract only the part called data)\n",
    "boston_data = pd.DataFrame(boston.data, columns = boston.feature_names)\n",
    "print(boston_data.head())\n",
    "#boston['MEDV'] = dataset.target"
   ]
  },
  {
   "cell_type": "code",
   "execution_count": null,
   "metadata": {},
   "outputs": [],
   "source": [
    "#4.Find the mean and standard deviation of each variable (=feature, column) in the data.\n",
    "boston_data.describe()\n",
    "\n",
    "mean_boston = boston_data.mean()\n",
    "#print(boston_data.mean())\n",
    "#print(boston_data.std())"
   ]
  },
  {
   "cell_type": "code",
   "execution_count": null,
   "metadata": {},
   "outputs": [],
   "source": [
    "#5.Assume the data you have are the whole population. Randomly sample  300  entries from the  11 -th variable.\n",
    "# Using this sample estimate estimate the population mean (whose true value is already calculated).\n",
    "sample_size = 300\n",
    "# 11th Variable is ['PTRATIO']\n",
    "boston_PRTATIO = boston_data['PTRATIO']\n",
    "sample_PRTATIO = np.random.choice(a= boston_PRTATIO, size = sample_size)\n",
    "samplemean_PRTATIO = sample_PRTATIO.mean()\n",
    "true_mean_PTRATIO = boston_PRTATIO.mean()\n",
    "print('true mean for boston[PTRATIO] is: ', true_mean_PTRATIO)\n",
    "print('Sample mean for boston[PTRATIO] is: ', sample_mean)"
   ]
  },
  {
   "cell_type": "code",
   "execution_count": null,
   "metadata": {},
   "outputs": [],
   "source": [
    "#6.Provide a confidence interval with  95 % of confidence level.\n",
    "#(To find the corresponding z-value you can use stats.norm.ppf())\n",
    "\n",
    "z_critical = stats.norm.ppf(q = 0.975)\n",
    "print(\"z-critical value: \", z_critical)\n",
    "\n",
    "boston_PRTATIO_stdev = boston_PRTATIO.std()\n",
    "margin_of_error = z_critical * (boston_PRTATIO_stdev/math.sqrt(sample_size))\n",
    "\n",
    "confidence_interval = (samplemean_PRTATIO - margin_of_error,\n",
    "                       samplemean_PRTATIO + margin_of_error) \n",
    "print(\"95% Confidence interval for the mean: \" , confidence_interval)\n"
   ]
  },
  {
   "cell_type": "code",
   "execution_count": null,
   "metadata": {},
   "outputs": [],
   "source": [
    "#7.If you repeat Steps 5 and 6 above  20  times, how many of these  20  confidence intervals do you expect to \n",
    "# include the true mean? Why?\n",
    "np.random.seed(1234)\n",
    "intervals = []\n",
    "samplemeans_PRTATIO = []\n",
    "\n",
    "for sample in range(20):  # We want 20 different confidence intervals\n",
    "    sample1 = np.random.choice(a= boston_PRTATIO, size = sample_size)\n",
    "    samplemean1 = sample1.mean()\n",
    "    samplemeans_PRTATIO.append(samplemean1)\n",
    "\n",
    "    z_critical1 = stats.norm.ppf(q = 0.975)  \n",
    "    boston_PRTATIO_stdev1 = boston_PRTATIO.std()  \n",
    "    margin_of_error1 = z_critical1 * (boston_PRTATIO_stdev1/math.sqrt(sample_size))\n",
    "\n",
    "    confidence_interval1 = (samplemean1 - margin_of_error1,\n",
    "                           samplemean1 + margin_of_error1)      \n",
    "    intervals.append(confidence_interval1)    \n",
    "   \n",
    "print('No of confidence intervals',len(intervals))\n",
    "print(intervals)\n"
   ]
  },
  {
   "cell_type": "code",
   "execution_count": null,
   "metadata": {},
   "outputs": [],
   "source": [
    "#8.Scatterplot the estimated means with their  95 % margins of error, as well as the true value of the mean. \n",
    "import matplotlib.pyplot as plt\n",
    "\n",
    "plt.figure(figsize=(9,9))\n",
    "plt.errorbar(x=np.arange(0.1, 20, 1), \n",
    "             y=samplemeans_PRTATIO, \n",
    "             yerr=[(top-bot)/2 for top,bot in intervals],\n",
    "             fmt='o')\n",
    "plt.hlines(xmin=-0.2, xmax=19.5,\n",
    "           y=18.455533596837967, \n",
    "           linewidth=2.0,\n",
    "           color=\"red\");\n",
    "plt.scatter(x=np.arange(0.1, 20, 1), y=samplemeans_PRTATIO)\n"
   ]
  },
  {
   "cell_type": "markdown",
   "metadata": {},
   "source": [
    "Q.How many of the error margins include the true mean? Does it match with your answer to the previous step? \n",
    "If not, what is the reason in your opinion\n",
    "\n",
    "Ans:\n",
    "out of 20, 19 error margins mostly include the true mean. One just touched the boundary.\n",
    "Therefore it matches our answer in the previous question"
   ]
  }
 ],
 "metadata": {
  "kernelspec": {
   "display_name": "Python 3",
   "language": "python",
   "name": "python3"
  },
  "language_info": {
   "codemirror_mode": {
    "name": "ipython",
    "version": 3
   },
   "file_extension": ".py",
   "mimetype": "text/x-python",
   "name": "python",
   "nbconvert_exporter": "python",
   "pygments_lexer": "ipython3",
   "version": "3.7.1"
  }
 },
 "nbformat": 4,
 "nbformat_minor": 2
}
